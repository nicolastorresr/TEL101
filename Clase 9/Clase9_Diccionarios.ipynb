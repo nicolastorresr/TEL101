{
 "cells": [
  {
   "cell_type": "markdown",
   "metadata": {
    "slideshow": {
     "slide_type": "slide"
    }
   },
   "source": [
    "### TEL101 - Iniciación a la Programación\n",
    "# Clase 9: Diccionarios\n",
    "Prof. Nicolás Torres<br/>\n",
    "<a href=\"mailto:nicolas.torresr@usm.cl\">nicolas.torresr@usm.cl</a><br/>\n",
    "Ingeniería Civil Telemática<br/>\n",
    "Departamento de Electrónica<br/>\n",
    "Universidad Técnica Federico Santa María"
   ]
  },
  {
   "cell_type": "markdown",
   "metadata": {
    "slideshow": {
     "slide_type": "slide"
    }
   },
   "source": [
    "# Diccionarios\n",
    "\n",
    "Los diccionarios son colecciones **indexadas**, desordenadas y mutables de llaves (*keys*) y valores (*values*) asociados en pares. La mejor forma de pensar en un diccionario es como un conjunto de pares `llave:valor`, con el requisito de que las llaves no se pueden repetir dentro del diccionario."
   ]
  },
  {
   "cell_type": "markdown",
   "metadata": {
    "slideshow": {
     "slide_type": "slide"
    }
   },
   "source": [
    "# Creación\n",
    "\n",
    "Los diccionarios se declaran entre paréntesis curvos `{ }`, y sus elementos, que son pares `llave:valor`, se separan por comas."
   ]
  },
  {
   "cell_type": "code",
   "execution_count": 1,
   "metadata": {
    "slideshow": {
     "slide_type": "-"
    }
   },
   "outputs": [],
   "source": [
    "capitales = {'Chile': 'Santiago', 'Peru': 'Lima'}"
   ]
  },
  {
   "cell_type": "code",
   "execution_count": 2,
   "metadata": {
    "slideshow": {
     "slide_type": "-"
    }
   },
   "outputs": [],
   "source": [
    "telefonos = {'jack': 4098, 'jill': 4139, 'joan': 4401}"
   ]
  },
  {
   "cell_type": "markdown",
   "metadata": {
    "slideshow": {
     "slide_type": "slide"
    }
   },
   "source": [
    "# Indexación\n",
    "\n",
    "Los diccionarios están **indexados por llaves**, que pueden ser de **cualquier tipo inmutable**.\n",
    "\n",
    "\n",
    "Un valor dentro de un diccionario es accesible por medio del operador `[ ]`, usando como índice su llave. En consecuencia, `d[k]`, entrega el valor asociado a la llave `k` del diccionario `d`.\n"
   ]
  },
  {
   "cell_type": "code",
   "execution_count": 3,
   "metadata": {
    "slideshow": {
     "slide_type": "-"
    }
   },
   "outputs": [],
   "source": [
    "d = {1: 'uno', 2: 'dos', 3: 'tres', 4: 'cuatro'}"
   ]
  },
  {
   "cell_type": "code",
   "execution_count": 4,
   "metadata": {
    "slideshow": {
     "slide_type": "-"
    }
   },
   "outputs": [
    {
     "name": "stdout",
     "output_type": "stream",
     "text": [
      "uno\n"
     ]
    }
   ],
   "source": [
    "print(d[1])"
   ]
  },
  {
   "cell_type": "code",
   "execution_count": 5,
   "metadata": {
    "slideshow": {
     "slide_type": "-"
    }
   },
   "outputs": [
    {
     "ename": "KeyError",
     "evalue": "0",
     "output_type": "error",
     "traceback": [
      "\u001b[1;31m---------------------------------------------------------------------------\u001b[0m",
      "\u001b[1;31mKeyError\u001b[0m                                  Traceback (most recent call last)",
      "Input \u001b[1;32mIn [5]\u001b[0m, in \u001b[0;36m<cell line: 1>\u001b[1;34m()\u001b[0m\n\u001b[1;32m----> 1\u001b[0m \u001b[38;5;28mprint\u001b[39m(\u001b[43md\u001b[49m\u001b[43m[\u001b[49m\u001b[38;5;241;43m0\u001b[39;49m\u001b[43m]\u001b[49m)\n",
      "\u001b[1;31mKeyError\u001b[0m: 0"
     ]
    }
   ],
   "source": [
    "print(d[0])"
   ]
  },
  {
   "cell_type": "markdown",
   "metadata": {
    "slideshow": {
     "slide_type": "slide"
    }
   },
   "source": [
    "# Mutabilidad\n",
    "\n",
    "Los diccionarios son un tipo de dato **mutable**. Por lo tanto, sus elementos se pueden modificar. En consecuencia, `d[k] = v`, reemplaza el valor de la llave `k` en el diccionario `d` por el valor `v`. Si la llave `k` no existe en el diccionario `d`, entonces se agrega el par `k:v`."
   ]
  },
  {
   "cell_type": "code",
   "execution_count": 6,
   "metadata": {
    "slideshow": {
     "slide_type": "slide"
    }
   },
   "outputs": [],
   "source": [
    "d = {1: 'uno', 2: 'dos', 3: 'tres', 4: 'cuatro'}"
   ]
  },
  {
   "cell_type": "code",
   "execution_count": 7,
   "metadata": {
    "slideshow": {
     "slide_type": "fragment"
    }
   },
   "outputs": [],
   "source": [
    "# La llave 1 existe, se reemplaza su valor por 'one'\n",
    "d[1] = 'one'"
   ]
  },
  {
   "cell_type": "code",
   "execution_count": 8,
   "metadata": {
    "slideshow": {
     "slide_type": "-"
    }
   },
   "outputs": [
    {
     "name": "stdout",
     "output_type": "stream",
     "text": [
      "{1: 'one', 2: 'dos', 3: 'tres', 4: 'cuatro'}\n"
     ]
    }
   ],
   "source": [
    "print(d)"
   ]
  },
  {
   "cell_type": "code",
   "execution_count": 9,
   "metadata": {
    "slideshow": {
     "slide_type": "fragment"
    }
   },
   "outputs": [],
   "source": [
    "# La llave 5 no existe, se crea con valor 'cinco' asociado.\n",
    "d[5] = 'cinco'"
   ]
  },
  {
   "cell_type": "code",
   "execution_count": 10,
   "metadata": {
    "slideshow": {
     "slide_type": "-"
    }
   },
   "outputs": [
    {
     "name": "stdout",
     "output_type": "stream",
     "text": [
      "{1: 'one', 2: 'dos', 3: 'tres', 4: 'cuatro', 5: 'cinco'}\n"
     ]
    }
   ],
   "source": [
    "print(d)"
   ]
  },
  {
   "cell_type": "markdown",
   "metadata": {
    "slideshow": {
     "slide_type": "slide"
    }
   },
   "source": [
    "# Eliminar un elemento\n",
    "\n",
    "La instrucción `del` permite eliminar un elemento en un diccionario a través de la llave."
   ]
  },
  {
   "cell_type": "code",
   "execution_count": 11,
   "metadata": {
    "slideshow": {
     "slide_type": "-"
    }
   },
   "outputs": [],
   "source": [
    "d = {1: 'uno', 2: 'dos', 3: 'tres', 4: 'cuatro'}"
   ]
  },
  {
   "cell_type": "code",
   "execution_count": 12,
   "metadata": {
    "slideshow": {
     "slide_type": "-"
    }
   },
   "outputs": [],
   "source": [
    "del d[1]"
   ]
  },
  {
   "cell_type": "code",
   "execution_count": 13,
   "metadata": {
    "slideshow": {
     "slide_type": "-"
    }
   },
   "outputs": [
    {
     "name": "stdout",
     "output_type": "stream",
     "text": [
      "{2: 'dos', 3: 'tres', 4: 'cuatro'}\n"
     ]
    }
   ],
   "source": [
    "print(d)"
   ]
  },
  {
   "cell_type": "markdown",
   "metadata": {
    "slideshow": {
     "slide_type": "slide"
    }
   },
   "source": [
    "# Operaciones\n",
    "\n",
    "Las operaciones elementales de concatenación y repetición no son compatibles con los diccionarios. Sin embargo, sí es posible evaluar membresía sobre las llaves de un diccionario."
   ]
  },
  {
   "cell_type": "code",
   "execution_count": 14,
   "metadata": {
    "slideshow": {
     "slide_type": "-"
    }
   },
   "outputs": [],
   "source": [
    "d = {1: 'uno', 2: 'dos', 3: 'tres', 4: 'cuatro'}"
   ]
  },
  {
   "cell_type": "code",
   "execution_count": 15,
   "metadata": {
    "slideshow": {
     "slide_type": "-"
    }
   },
   "outputs": [
    {
     "data": {
      "text/plain": [
       "True"
      ]
     },
     "execution_count": 15,
     "metadata": {},
     "output_type": "execute_result"
    }
   ],
   "source": [
    "1 in d"
   ]
  },
  {
   "cell_type": "code",
   "execution_count": 16,
   "metadata": {
    "slideshow": {
     "slide_type": "-"
    }
   },
   "outputs": [
    {
     "data": {
      "text/plain": [
       "False"
      ]
     },
     "execution_count": 16,
     "metadata": {},
     "output_type": "execute_result"
    }
   ],
   "source": [
    "'uno' in d"
   ]
  },
  {
   "cell_type": "markdown",
   "metadata": {
    "slideshow": {
     "slide_type": "slide"
    }
   },
   "source": [
    "# Funciones\n",
    "\n",
    "Las funciones `len()`, `min()`, `max()` y `sum()`, se pueden aplicar sobre diccionarios. Sin embargo, siempre actúan sobre las llaves."
   ]
  },
  {
   "cell_type": "code",
   "execution_count": 17,
   "metadata": {
    "slideshow": {
     "slide_type": "-"
    }
   },
   "outputs": [
    {
     "data": {
      "text/plain": [
       "3"
      ]
     },
     "execution_count": 17,
     "metadata": {},
     "output_type": "execute_result"
    }
   ],
   "source": [
    "len({1: 2, 3: 4, 5: 6})"
   ]
  },
  {
   "cell_type": "code",
   "execution_count": 18,
   "metadata": {
    "slideshow": {
     "slide_type": "-"
    }
   },
   "outputs": [
    {
     "data": {
      "text/plain": [
       "1"
      ]
     },
     "execution_count": 18,
     "metadata": {},
     "output_type": "execute_result"
    }
   ],
   "source": [
    "min({1: 2, 3: 4, 5: 6})"
   ]
  },
  {
   "cell_type": "code",
   "execution_count": 19,
   "metadata": {
    "slideshow": {
     "slide_type": "-"
    }
   },
   "outputs": [
    {
     "data": {
      "text/plain": [
       "5"
      ]
     },
     "execution_count": 19,
     "metadata": {},
     "output_type": "execute_result"
    }
   ],
   "source": [
    "max({1: 2, 3: 4, 5: 6})"
   ]
  },
  {
   "cell_type": "code",
   "execution_count": 20,
   "metadata": {
    "slideshow": {
     "slide_type": "-"
    }
   },
   "outputs": [
    {
     "data": {
      "text/plain": [
       "9"
      ]
     },
     "execution_count": 20,
     "metadata": {},
     "output_type": "execute_result"
    }
   ],
   "source": [
    "sum({1: 2, 3: 4, 5: 6})"
   ]
  },
  {
   "cell_type": "markdown",
   "metadata": {
    "slideshow": {
     "slide_type": "slide"
    }
   },
   "source": [
    "# Iteraciones\n",
    "\n",
    "No es necesario iterar sobre un diccionario para buscar un valor si se conoce la llave. Sin embargo, es posible recorrer un diccionario a través de un ciclo `for`."
   ]
  },
  {
   "cell_type": "code",
   "execution_count": 21,
   "metadata": {
    "slideshow": {
     "slide_type": "-"
    }
   },
   "outputs": [
    {
     "name": "stdout",
     "output_type": "stream",
     "text": [
      "El telefono de jack es 4098\n",
      "El telefono de jill es 4139\n",
      "El telefono de joan es 4401\n"
     ]
    }
   ],
   "source": [
    "telefonos = {'jack': 4098, 'jill': 4139, 'joan': 4401}\n",
    "\n",
    "for nombre in telefonos:\n",
    "    print(\"El telefono de\",nombre,\"es\",telefonos[nombre])"
   ]
  },
  {
   "cell_type": "markdown",
   "metadata": {
    "slideshow": {
     "slide_type": "slide"
    }
   },
   "source": [
    "## Uso de los diccionarios en Python\n",
    "\n",
    "- Contabilizar el número de ocurrencias de todos los elementos:\n",
    "```python\n",
    "{'Manzanas': 2, 'Naranjas': 1, 'Fideos': 4}\n",
    "```\n",
    "\n",
    "- Categorizar cada elemento en una categoría:\n",
    "```python\n",
    "{'Frutas': ['Manzanas', 'Naranjas'], 'Despensa': ['Fideos']}\n",
    "```"
   ]
  },
  {
   "cell_type": "markdown",
   "metadata": {
    "slideshow": {
     "slide_type": "slide"
    }
   },
   "source": [
    "## Patrón de Contabilizar\n",
    "\n",
    "Los diccionarios pueden ser utilizados para llevar un registro del número de ocurrencias de diferentes elementos y actualizar sus valores fácilmente a modo de inventario. Dada una secuencia de elementos, es posible definir un patrón para contabilizar el número de veces que se repite cada elemento en los datos.\n",
    "\n",
    "```python\n",
    "d = {}\n",
    "for elemento in datos:\n",
    "    if elemento not in d:\n",
    "        d[elemento] = 0\n",
    "    d[elemento] += 1\n",
    "```"
   ]
  },
  {
   "cell_type": "code",
   "execution_count": 22,
   "metadata": {
    "slideshow": {
     "slide_type": "slide"
    }
   },
   "outputs": [
    {
     "name": "stdout",
     "output_type": "stream",
     "text": [
      "{'luis': 1, 'ana': 4, 'pedro': 2, 'juan': 1}\n"
     ]
    }
   ],
   "source": [
    "lista = ['luis', 'ana', 'pedro', 'ana', 'juan', 'ana', 'ana', 'pedro']\n",
    "\n",
    "d = {}\n",
    "for nombre in lista:\n",
    "    if nombre not in d:\n",
    "        d[nombre] = 0\n",
    "    d[nombre] += 1\n",
    "print (d)"
   ]
  },
  {
   "cell_type": "markdown",
   "metadata": {
    "slideshow": {
     "slide_type": "slide"
    }
   },
   "source": [
    "## Patrón de Categorizar\n",
    "\n",
    "Los diccionarios pueden ser utilizados para categorizar elementos en diferentes clases. Dada una secuencia de elementos y sus categorías, es posible definir un patrón para agrupar elementos por cada categoría presente en los datos.\n",
    "\n",
    "```python\n",
    "d = {}\n",
    "for elemento,categoría in datos:\n",
    "    if categoría not in d:\n",
    "        d[categoría] = []\n",
    "    d[categoría].append(elemento)\n",
    "```"
   ]
  },
  {
   "cell_type": "code",
   "execution_count": 23,
   "metadata": {
    "slideshow": {
     "slide_type": "slide"
    }
   },
   "outputs": [
    {
     "name": "stdout",
     "output_type": "stream",
     "text": [
      "{'Italia': ['Roma', 'Venecia', 'Florencia'], 'Francia': ['Paris', 'Lyon'], 'Alemania': ['Frankfurt']}\n"
     ]
    }
   ],
   "source": [
    "lista = [('Roma', 'Italia'), ('Paris', 'Francia'), ('Venecia','Italia'), ('Lyon','Francia'), \n",
    "         ('Frankfurt', 'Alemania'), ('Florencia', 'Italia')]\n",
    "\n",
    "d = {}\n",
    "for ciudad,país in lista:\n",
    "    if país not in d:\n",
    "        d[país] = []\n",
    "    d[país].append(ciudad)\n",
    "print (d)"
   ]
  }
 ],
 "metadata": {
  "celltoolbar": "Slideshow",
  "kernelspec": {
   "display_name": "Python 3 (ipykernel)",
   "language": "python",
   "name": "python3"
  },
  "language_info": {
   "codemirror_mode": {
    "name": "ipython",
    "version": 3
   },
   "file_extension": ".py",
   "mimetype": "text/x-python",
   "name": "python",
   "nbconvert_exporter": "python",
   "pygments_lexer": "ipython3",
   "version": "3.11.3"
  }
 },
 "nbformat": 4,
 "nbformat_minor": 4
}
