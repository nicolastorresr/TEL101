{
 "cells": [
  {
   "cell_type": "markdown",
   "metadata": {
    "slideshow": {
     "slide_type": "slide"
    }
   },
   "source": [
    "### TEL101 - Iniciación a la Programación\n",
    "# Clase 6: Módulos y Funciones\n",
    "Prof. Nicolás Torres<br/>\n",
    "<a href=\"mailto:nicolas.torresr@usm.cl\">nicolas.torresr@usm.cl</a><br/>\n",
    "Ingeniería Civil Telemática<br/>\n",
    "Departamento de Electrónica<br/>\n",
    "Universidad Técnica Federico Santa María"
   ]
  },
  {
   "cell_type": "markdown",
   "metadata": {
    "slideshow": {
     "slide_type": "slide"
    }
   },
   "source": [
    "# Funciones\n",
    "\n",
    "Bloque de código que cumple una tarea específica.\n",
    "\n",
    "En general, recibe al menos un valor como entrada, conocido como **parámetro**, y entrega un valor como salida, llamado **retorno**. Cada vez que se utiliza una función, se realiza un \"llamado\" al bloque de código que la compone a través del nombre y se le entrega los **argumentos**, entre paréntesis y separados por comas, que se almacenan en los parámetros definidos."
   ]
  },
  {
   "cell_type": "markdown",
   "metadata": {
    "slideshow": {
     "slide_type": "slide"
    }
   },
   "source": [
    "# Funciones Integradas\n",
    "\n",
    "Python incluye un conjunto de funciones integradas con el lenguaje que siempre disponibles y pueden ser utilizadas en cualquier momento.\n",
    "\n",
    "* Entrada y Salida de datos: `input()` y `print()`\n",
    "* Transformadoras de datos: `int()`, `float()`, `list()`, `str()`, etc.\n",
    "* Funciones matemáticas simples: `abs()`, `pow()`, `sum()`, `min()`, `max()`, etc."
   ]
  },
  {
   "cell_type": "code",
   "execution_count": 1,
   "metadata": {
    "slideshow": {
     "slide_type": "-"
    }
   },
   "outputs": [
    {
     "data": {
      "text/plain": [
       "1"
      ]
     },
     "execution_count": 1,
     "metadata": {},
     "output_type": "execute_result"
    }
   ],
   "source": [
    "abs(4-5)"
   ]
  },
  {
   "cell_type": "code",
   "execution_count": 2,
   "metadata": {
    "slideshow": {
     "slide_type": "-"
    }
   },
   "outputs": [
    {
     "data": {
      "text/plain": [
       "8"
      ]
     },
     "execution_count": 2,
     "metadata": {},
     "output_type": "execute_result"
    }
   ],
   "source": [
    "pow(2,3)"
   ]
  },
  {
   "cell_type": "code",
   "execution_count": 3,
   "metadata": {
    "slideshow": {
     "slide_type": "-"
    }
   },
   "outputs": [
    {
     "data": {
      "text/plain": [
       "8"
      ]
     },
     "execution_count": 3,
     "metadata": {},
     "output_type": "execute_result"
    }
   ],
   "source": [
    "max(3, 2, -4, 4, 1, -5, 0, 8, 2, -1)"
   ]
  },
  {
   "cell_type": "code",
   "execution_count": 4,
   "metadata": {
    "slideshow": {
     "slide_type": "-"
    }
   },
   "outputs": [
    {
     "data": {
      "text/plain": [
       "5.77"
      ]
     },
     "execution_count": 4,
     "metadata": {},
     "output_type": "execute_result"
    }
   ],
   "source": [
    "round(5.76543, 2)"
   ]
  },
  {
   "cell_type": "markdown",
   "metadata": {
    "slideshow": {
     "slide_type": "slide"
    }
   },
   "source": [
    "# Módulos\n",
    "\n",
    "* Existen muchas otras funciones implementadas en Python.\n",
    "* Sin embargo, no están disponibles de forma inmediata para su uso.\n",
    "* Se encuentran en archivos aparte, conocidos como **bibliotecas**.\n",
    "* Para acceder a estas funciones, es necesario incluir su código con la palabra reservada `import`."
   ]
  },
  {
   "cell_type": "markdown",
   "metadata": {
    "slideshow": {
     "slide_type": "slide"
    }
   },
   "source": [
    "### Biblioteca `math`\n",
    "Permite acceder a funciones matemáticas como la raíz cuadrada, la constante $\\pi$, logaritmo, etc."
   ]
  },
  {
   "cell_type": "code",
   "execution_count": 5,
   "metadata": {
    "slideshow": {
     "slide_type": "-"
    }
   },
   "outputs": [
    {
     "name": "stdout",
     "output_type": "stream",
     "text": [
      "La raiz cuadrada de 16 es 4.0\n",
      "𝜋 = 3.141592653589793\n",
      "sen(90) = 1.0\n",
      "cos(90) = 6.123233995736766e-17\n",
      "log(8,2)= 3.0\n"
     ]
    }
   ],
   "source": [
    "import math\n",
    "\n",
    "print(\"La raiz cuadrada de 16 es\",math.sqrt(16))\n",
    "print(\"𝜋 =\",math.pi)\n",
    "print(\"sen(90) =\",math.sin(math.pi/2))\n",
    "print(\"cos(90) =\",math.cos(math.pi/2))\n",
    "print(\"log(8,2)=\",math.log(8,2))"
   ]
  },
  {
   "cell_type": "markdown",
   "metadata": {
    "slideshow": {
     "slide_type": "slide"
    }
   },
   "source": [
    "### Importar todo desde...\n",
    "\n",
    "Para importar todas las funciones desde un módulo directamente al programa se utiliza la palabra reservada `from`, el nombre del módulo y el asterisco `*` para incluir todas las funciones del módulo. Por lo tanto, ahora se pueden llamar como si estuvieran definidas en el mismo programa."
   ]
  },
  {
   "cell_type": "code",
   "execution_count": 6,
   "metadata": {
    "slideshow": {
     "slide_type": "-"
    }
   },
   "outputs": [
    {
     "name": "stdout",
     "output_type": "stream",
     "text": [
      "La raiz cuadrada de 16 es 4.0\n",
      "𝜋 = 3.141592653589793\n",
      "sen(90) = 1.0\n",
      "cos(90) = 6.123233995736766e-17\n",
      "log(8,2)= 3.0\n"
     ]
    }
   ],
   "source": [
    "from math import *\n",
    "\n",
    "print(\"La raiz cuadrada de 16 es\",sqrt(16))\n",
    "print(\"𝜋 =\",pi)\n",
    "print(\"sen(90) =\",sin(pi/2))\n",
    "print(\"cos(90) =\",cos(pi/2))\n",
    "print(\"log(8,2)=\",log(8,2))"
   ]
  },
  {
   "cell_type": "markdown",
   "metadata": {
    "slideshow": {
     "slide_type": "-"
    }
   },
   "source": [
    "Al importar de esta forma, debe tener cuidado con la coincidencia de nombres de variables y funciones en su código."
   ]
  },
  {
   "cell_type": "markdown",
   "metadata": {
    "slideshow": {
     "slide_type": "slide"
    }
   },
   "source": [
    "### Alias\n",
    "También es posible agregar bibliotecas y/o sus funciones con un **alias**."
   ]
  },
  {
   "cell_type": "code",
   "execution_count": 7,
   "metadata": {
    "slideshow": {
     "slide_type": "-"
    }
   },
   "outputs": [
    {
     "name": "stdout",
     "output_type": "stream",
     "text": [
      "La raiz cuadrada de 16 es 4.0\n"
     ]
    }
   ],
   "source": [
    "import math as m\n",
    "print(\"La raiz cuadrada de 16 es\",m.sqrt(16))"
   ]
  },
  {
   "cell_type": "code",
   "execution_count": 8,
   "metadata": {
    "slideshow": {
     "slide_type": "-"
    }
   },
   "outputs": [
    {
     "name": "stdout",
     "output_type": "stream",
     "text": [
      "La raiz cuadrada de 16 es 4.0\n"
     ]
    }
   ],
   "source": [
    "from math import sqrt as raiz\n",
    "print(\"La raiz cuadrada de 16 es\",raiz(16))"
   ]
  },
  {
   "cell_type": "markdown",
   "metadata": {
    "slideshow": {
     "slide_type": "slide"
    }
   },
   "source": [
    "### Biblioteca `random`\n",
    "Se utiliza para generar números aleatorios (al azar)."
   ]
  },
  {
   "cell_type": "code",
   "execution_count": 9,
   "metadata": {
    "slideshow": {
     "slide_type": "-"
    }
   },
   "outputs": [],
   "source": [
    "from random import randint, choice, shuffle"
   ]
  },
  {
   "cell_type": "code",
   "execution_count": 10,
   "metadata": {
    "slideshow": {
     "slide_type": "slide"
    }
   },
   "outputs": [
    {
     "name": "stdout",
     "output_type": "stream",
     "text": [
      "9\n",
      "3\n",
      "2\n"
     ]
    }
   ],
   "source": [
    "print(randint(1,10))\n",
    "print(randint(1,10))\n",
    "print(randint(1,10))"
   ]
  },
  {
   "cell_type": "code",
   "execution_count": 11,
   "metadata": {
    "slideshow": {
     "slide_type": "slide"
    }
   },
   "outputs": [
    {
     "name": "stdout",
     "output_type": "stream",
     "text": [
      "f\n",
      "e\n",
      "c\n"
     ]
    }
   ],
   "source": [
    "print(choice(['a','b','c','d','e','f']))\n",
    "print(choice(['a','b','c','d','e','f']))\n",
    "print(choice(['a','b','c','d','e','f']))"
   ]
  },
  {
   "cell_type": "code",
   "execution_count": 12,
   "metadata": {
    "slideshow": {
     "slide_type": "slide"
    }
   },
   "outputs": [
    {
     "name": "stdout",
     "output_type": "stream",
     "text": [
      "[4, 1, 5, 2, 3]\n"
     ]
    }
   ],
   "source": [
    "lista = [1,2,3,4,5]\n",
    "shuffle(lista)\n",
    "print(lista)"
   ]
  },
  {
   "cell_type": "markdown",
   "metadata": {
    "slideshow": {
     "slide_type": "slide"
    }
   },
   "source": [
    "### Otras bibliotecas de interés para el futuro\n",
    "\n",
    "* `TensorFlow`: Para aprendizaje automático.\n",
    "* `Keras`: Redes Neuronales.\n",
    "* `matplotlib`: Para gráficas en general (https://matplotlib.org).\n",
    "* `numpy`: Para funciones matemáticas avanzadas (https://www.numpy.org).\n",
    "* `seaborn`: Para visualización de datos (basada en matplotlib).\n",
    "* `scipy`: Estadística y y algoritmos matemáticos.\n",
    "* `sklearn`: Para aprendizaje automático.\n",
    "* `pandas`: Para manipulación y análisis de datos.\n",
    "* `os`: Para interactuar con el Sistema Operativo.\n",
    "\n",
    "Además, un usuario puede crear sus propios módulos."
   ]
  },
  {
   "cell_type": "markdown",
   "metadata": {
    "slideshow": {
     "slide_type": "slide"
    }
   },
   "source": [
    "## Creación de módulos\n",
    "En un archivo auxiliar, ubicado en la misma ruta donde tiene su `main.py`, puede tener definidas sus funciones y luego importarlas dentro del archivo principal. Esto permite modularizar el código y facilita la depuración (identificación y corrección de errores)."
   ]
  },
  {
   "cell_type": "markdown",
   "metadata": {
    "slideshow": {
     "slide_type": "slide"
    }
   },
   "source": [
    "# Creación de funciones\n",
    "\n",
    "Además de las funciones integradas, es posible **definir** funciones propias y \"llamarlas\" en cualquier momento."
   ]
  },
  {
   "cell_type": "markdown",
   "metadata": {
    "slideshow": {
     "slide_type": "slide"
    }
   },
   "source": [
    "# Definición\n",
    "\n",
    "Una función se define con la palabra reservada `def`, seguida de un nombre, y los parámetros separados por comas se ubican dentro de los paréntesis. Como todo bloque de código,  al final de la línea se requiere el uso de los dos puntos, y todas las instrucciones que realiza la función para entregar un resultado final como retorno deben estar indentadas en el mismo nivel.\n",
    "\n",
    "```python\n",
    "def nombre_funcion(parámetro1, parámetro2, parámetro3,...):\n",
    "        # Instrucciones\n",
    "        return valor\n",
    "```"
   ]
  },
  {
   "cell_type": "markdown",
   "metadata": {
    "slideshow": {
     "slide_type": "slide"
    }
   },
   "source": [
    "### Ejemplo"
   ]
  },
  {
   "cell_type": "code",
   "execution_count": 13,
   "metadata": {
    "slideshow": {
     "slide_type": "-"
    }
   },
   "outputs": [],
   "source": [
    "def sumar(a, b, c):\n",
    "    suma = a + b + c\n",
    "    return suma"
   ]
  },
  {
   "cell_type": "markdown",
   "metadata": {
    "slideshow": {
     "slide_type": "slide"
    }
   },
   "source": [
    "# Llamado\n",
    "\n",
    "Una vez definida, una función puede ser utilizada como cualquier otra función integrada, todas las veces que se requiera.\n",
    "\n",
    "Al llamar a una función la ejecución del programa se traslada al bloque de código que la define, y los parámetros reciben los valores de entrada (argumentos). Cuando la función termina, la ejecución vuelve al punto del llamado, llevando consigo el valor de retorno."
   ]
  },
  {
   "cell_type": "code",
   "execution_count": 14,
   "metadata": {
    "slideshow": {
     "slide_type": "-"
    }
   },
   "outputs": [
    {
     "name": "stdout",
     "output_type": "stream",
     "text": [
      "La suma de 1 + 2 + 3 = 6\n"
     ]
    }
   ],
   "source": [
    "print(\"La suma de 1 + 2 + 3 =\",sumar(1,2,3))"
   ]
  },
  {
   "cell_type": "code",
   "execution_count": 15,
   "metadata": {
    "slideshow": {
     "slide_type": "slide"
    }
   },
   "outputs": [
    {
     "name": "stdout",
     "output_type": "stream",
     "text": [
      "Ingrese un número: 1\n",
      "Ingrese un número: 2\n",
      "Ingrese un número: 3\n",
      "La suma de 1 más 2 más 3 es 6\n"
     ]
    }
   ],
   "source": [
    "n1 = int(input(\"Ingrese un número: \"))\n",
    "n2 = int(input(\"Ingrese un número: \"))\n",
    "n3 = int(input(\"Ingrese un número: \"))\n",
    "resultado = sumar(n1,n2,n3)\n",
    "\n",
    "print(\"La suma de\",n1,\"más\",n2,\"más\",n3,\"es\",resultado)"
   ]
  },
  {
   "cell_type": "code",
   "execution_count": 16,
   "metadata": {
    "slideshow": {
     "slide_type": "-"
    }
   },
   "outputs": [
    {
     "name": "stdout",
     "output_type": "stream",
     "text": [
      "7.0\n",
      "123\n",
      "[1, 2, 3, 4, 5, 6, 7, 8, 9]\n"
     ]
    }
   ],
   "source": [
    "print(sumar(2.5,4.25,0.25))\n",
    "print(sumar('1','2','3'))\n",
    "print(sumar([1,2,3],[4,5],[6,7,8,9]))"
   ]
  },
  {
   "cell_type": "markdown",
   "metadata": {
    "slideshow": {
     "slide_type": "slide"
    }
   },
   "source": [
    "# Visualizar la ejecución\n",
    "\n",
    "Cuando se trabaja con funciones, la ejecución de un programa puede ser difícil de leer porque ocurren saltos entre una línea y otra (se puede pasar desde la última línea a la primera y luego devolverse). "
   ]
  },
  {
   "cell_type": "code",
   "execution_count": 17,
   "metadata": {
    "slideshow": {
     "slide_type": "slide"
    }
   },
   "outputs": [
    {
     "data": {
      "text/html": [
       "\n",
       "        <iframe\n",
       "            width=\"974\"\n",
       "            height=\"550\"\n",
       "            src=\"http://pythontutor.com/iframe-embed.html#code=def%20fun%28x,%20y%29%3A%0A%20%20%20%20return%20x%20%2B%20y%0A%20%20%20%20%0Aa%20%3D%201%0Ab%20%3D%20fun%28a,%202%29%0Aprint%20%28b%29&codeDivHeight=400&codeDivWidth=350&cumulative=false&curInstr=0&heapPrimitives=nevernest&origin=opt-frontend.js&py=3&rawInputLstJSON=%5B%5D&textReferences=false\"\n",
       "            frameborder=\"0\"\n",
       "            allowfullscreen\n",
       "            \n",
       "        ></iframe>\n",
       "        "
      ],
      "text/plain": [
       "<IPython.lib.display.IFrame at 0x1beec4fbd00>"
      ]
     },
     "execution_count": 17,
     "metadata": {},
     "output_type": "execute_result"
    }
   ],
   "source": [
    "import IPython\n",
    "\n",
    "src = 'http://pythontutor.com/iframe-embed.html#code=def%20fun%28x,%20y%29%3A%0A%20%20%20%20return%20x%20%2B%20y%0A%20%20%20%20%0Aa%20%3D%201%0Ab%20%3D%20fun%28a,%202%29%0Aprint%20%28b%29&codeDivHeight=400&codeDivWidth=350&cumulative=false&curInstr=0&heapPrimitives=nevernest&origin=opt-frontend.js&py=3&rawInputLstJSON=%5B%5D&textReferences=false'\n",
    "\n",
    "IPython.display.IFrame(src, width=974, height=550)"
   ]
  },
  {
   "cell_type": "markdown",
   "metadata": {
    "slideshow": {
     "slide_type": "slide"
    }
   },
   "source": [
    "# Variables locales y globales\n",
    "\n",
    "Al definir nuestras propias funciones debemos saber identificar el **ámbito** de las variables. El ámbito es \"donde vive\" la variable. De esta forma, se definen dos tipos de variables y sus consecuentes ámbitos:\n",
    "\n",
    "- **Variable local:** son aquellas variables creadas dentro de una función (incluye a los parámetros) y tienen un ámbito local, vale decir, solo pueden ser usadas y modificadas dentro de la función.\n",
    "- **Variable global:** son aquellas variables definidas fuera de cualquier función. Tienen un ambito global, es decir, pueden ser utilizadas en cualquier parte del programa. Sin embargo, no pueden ser modificadas dentro de alguna función (en ese caso se crearía una variable local con el mismo nombre)."
   ]
  },
  {
   "cell_type": "markdown",
   "metadata": {
    "slideshow": {
     "slide_type": "slide"
    }
   },
   "source": [
    "**Variable global:** El valor de $\\pi$ se trata como variable **global**."
   ]
  },
  {
   "cell_type": "code",
   "execution_count": 18,
   "metadata": {
    "slideshow": {
     "slide_type": "-"
    }
   },
   "outputs": [],
   "source": [
    "PI_global = 3.14159265359\n",
    "\n",
    "def area(radio):    \n",
    "    return PI_global * radio ** 2"
   ]
  },
  {
   "cell_type": "code",
   "execution_count": 19,
   "metadata": {
    "slideshow": {
     "slide_type": "-"
    }
   },
   "outputs": [
    {
     "name": "stdout",
     "output_type": "stream",
     "text": [
      "El área de un círculo de radio 2 es: 12.56637061436\n"
     ]
    }
   ],
   "source": [
    "print(\"El área de un círculo de radio 2 es:\",area(2))"
   ]
  },
  {
   "cell_type": "code",
   "execution_count": 20,
   "metadata": {
    "slideshow": {
     "slide_type": "-"
    }
   },
   "outputs": [
    {
     "name": "stdout",
     "output_type": "stream",
     "text": [
      "El valor de π es: 3.14159265359\n"
     ]
    }
   ],
   "source": [
    "print(\"El valor de π es:\",PI_global)"
   ]
  },
  {
   "cell_type": "markdown",
   "metadata": {
    "slideshow": {
     "slide_type": "slide"
    }
   },
   "source": [
    "**Variable local:** El valor de $\\pi$ se trata como variable **local**."
   ]
  },
  {
   "cell_type": "code",
   "execution_count": 21,
   "metadata": {
    "slideshow": {
     "slide_type": "-"
    }
   },
   "outputs": [],
   "source": [
    "def area(radio):\n",
    "    PI_local = 3.14159265359\n",
    "    return PI_local * radio ** 2"
   ]
  },
  {
   "cell_type": "code",
   "execution_count": 22,
   "metadata": {
    "slideshow": {
     "slide_type": "-"
    }
   },
   "outputs": [
    {
     "name": "stdout",
     "output_type": "stream",
     "text": [
      "El área de un círculo de radio 2 es: 12.56637061436\n"
     ]
    }
   ],
   "source": [
    "print(\"El área de un círculo de radio 2 es:\",area(2))"
   ]
  },
  {
   "cell_type": "code",
   "execution_count": 23,
   "metadata": {
    "slideshow": {
     "slide_type": "-"
    }
   },
   "outputs": [
    {
     "ename": "NameError",
     "evalue": "name 'PI_local' is not defined",
     "output_type": "error",
     "traceback": [
      "\u001b[1;31m---------------------------------------------------------------------------\u001b[0m",
      "\u001b[1;31mNameError\u001b[0m                                 Traceback (most recent call last)",
      "Input \u001b[1;32mIn [23]\u001b[0m, in \u001b[0;36m<cell line: 1>\u001b[1;34m()\u001b[0m\n\u001b[1;32m----> 1\u001b[0m \u001b[38;5;28mprint\u001b[39m(\u001b[38;5;124m\"\u001b[39m\u001b[38;5;124mEl valor de π es:\u001b[39m\u001b[38;5;124m\"\u001b[39m,\u001b[43mPI_local\u001b[49m)\n",
      "\u001b[1;31mNameError\u001b[0m: name 'PI_local' is not defined"
     ]
    }
   ],
   "source": [
    "print(\"El valor de π es:\",PI_local)"
   ]
  },
  {
   "cell_type": "markdown",
   "metadata": {
    "slideshow": {
     "slide_type": "slide"
    }
   },
   "source": [
    "# Diferencias entre `print()` y `return`\n",
    "\n",
    "La función `print()` y la instrucción `return` pueden tener un comportamiento muy parecido, pero son **completamente** diferentes.\n",
    "\n",
    "* `return` es el **resultado de una función**, por lo tanto solo debe ir dentro de una función.\n",
    "* `print()` es una **salida de un programa**, puede ir tanto en una función (aunque no es recomendable) como en el código de un programa principal (el main)."
   ]
  },
  {
   "cell_type": "markdown",
   "metadata": {
    "slideshow": {
     "slide_type": "slide"
    }
   },
   "source": [
    "### Ejemplo"
   ]
  },
  {
   "cell_type": "code",
   "execution_count": 24,
   "metadata": {
    "slideshow": {
     "slide_type": "-"
    }
   },
   "outputs": [],
   "source": [
    "def suma(x,y):\n",
    "    return x+y"
   ]
  },
  {
   "cell_type": "markdown",
   "metadata": {
    "slideshow": {
     "slide_type": "-"
    }
   },
   "source": [
    "Al ejecutar la función no nos mostrará ningun resultado por pantalla, ya que solo estamos creando el \"*molde*\" de la función. **No la estamos usando aún**."
   ]
  },
  {
   "cell_type": "markdown",
   "metadata": {
    "slideshow": {
     "slide_type": "-"
    }
   },
   "source": [
    "Para mostrar el resultado de la función por pantalla, se debe llamar a la función y utilizar un `print()` para imprimir su resultado:"
   ]
  },
  {
   "cell_type": "code",
   "execution_count": 25,
   "metadata": {
    "slideshow": {
     "slide_type": "-"
    }
   },
   "outputs": [
    {
     "name": "stdout",
     "output_type": "stream",
     "text": [
      "3\n"
     ]
    }
   ],
   "source": [
    "print(suma(1,2))"
   ]
  },
  {
   "cell_type": "markdown",
   "metadata": {
    "slideshow": {
     "slide_type": "slide"
    }
   },
   "source": [
    "Sin embargo, si en lugar de utilizar `return` se utiliza un `print()` dentro de la función:"
   ]
  },
  {
   "cell_type": "code",
   "execution_count": 26,
   "metadata": {
    "slideshow": {
     "slide_type": "-"
    }
   },
   "outputs": [
    {
     "name": "stdout",
     "output_type": "stream",
     "text": [
      "3\n",
      "None\n"
     ]
    }
   ],
   "source": [
    "def suma(x,y):\n",
    "    print(x+y)\n",
    "\n",
    "print(suma(1,2))"
   ]
  },
  {
   "cell_type": "markdown",
   "metadata": {
    "slideshow": {
     "slide_type": "-"
    }
   },
   "source": [
    "La función retorna el tipo de dato `None` que significa literalmente \"Nada\", y ya no será posible guardar el resultado de la función porque se imprimirá y se perderá (la función pierde su propósito)."
   ]
  },
  {
   "cell_type": "markdown",
   "metadata": {
    "slideshow": {
     "slide_type": "slide"
    }
   },
   "source": [
    "Por lo tanto, como regla general:\n",
    "- No utilizaremos `input` dentro de una función. Las entradas que ingresan las personas que usan el programa son leídas en el código principal, fuera de las funciones.\n",
    "- No utilizaremos `print` dentro de una función. Las funciones entregan sus resultados a través de `return`, y en el código principal los resultados son mostrados a través de `print` de ser necesario."
   ]
  },
  {
   "cell_type": "markdown",
   "metadata": {
    "slideshow": {
     "slide_type": "slide"
    }
   },
   "source": [
    "La otra clara diferencia entre `print()` y `return` tiene que ver con la ejecución del código. El `return` termina automáticamente la ejecución del bloque de código dentro de la función."
   ]
  },
  {
   "cell_type": "markdown",
   "metadata": {
    "slideshow": {
     "slide_type": "-"
    }
   },
   "source": [
    "Entonces, por ejemplo, es posible encontrarse con la siguiente función:"
   ]
  },
  {
   "cell_type": "code",
   "execution_count": 27,
   "metadata": {
    "slideshow": {
     "slide_type": "-"
    }
   },
   "outputs": [],
   "source": [
    "def paridad(numero):\n",
    "    if numero % 2 == 0:\n",
    "        return \"par\"\n",
    "    return \"impar\""
   ]
  },
  {
   "cell_type": "code",
   "execution_count": 28,
   "metadata": {
    "slideshow": {
     "slide_type": "-"
    }
   },
   "outputs": [
    {
     "name": "stdout",
     "output_type": "stream",
     "text": [
      "impar\n",
      "par\n",
      "impar\n",
      "par\n"
     ]
    }
   ],
   "source": [
    "print(paridad(1))\n",
    "print(paridad(2))\n",
    "print(paridad(3))\n",
    "print(paridad(4))"
   ]
  }
 ],
 "metadata": {
  "anaconda-cloud": {},
  "celltoolbar": "Slideshow",
  "kernelspec": {
   "display_name": "Python 3 (ipykernel)",
   "language": "python",
   "name": "python3"
  },
  "language_info": {
   "codemirror_mode": {
    "name": "ipython",
    "version": 3
   },
   "file_extension": ".py",
   "mimetype": "text/x-python",
   "name": "python",
   "nbconvert_exporter": "python",
   "pygments_lexer": "ipython3",
   "version": "3.11.3"
  }
 },
 "nbformat": 4,
 "nbformat_minor": 1
}
