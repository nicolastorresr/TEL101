{
 "cells": [
  {
   "cell_type": "markdown",
   "metadata": {
    "slideshow": {
     "slide_type": "slide"
    }
   },
   "source": [
    "### TEL101 - Iniciación a la Programación\n",
    "# Clase 7: Archivos\n",
    "Prof. Nicolás Torres<br/>\n",
    "<a href=\"mailto:nicolas.torresr@usm.cl\">nicolas.torresr@usm.cl</a><br/>\n",
    "Ingeniería Civil Telemática<br/>\n",
    "Departamento de Electrónica<br/>\n",
    "Universidad Técnica Federico Santa María"
   ]
  },
  {
   "cell_type": "markdown",
   "metadata": {
    "slideshow": {
     "slide_type": "slide"
    }
   },
   "source": [
    "# Motivación\n",
    "\n",
    "Todos los datos almacenados en variables se encuentran en memoria RAM, un sistema de almacenamiento a corto plazo. Los programas utilizan este tipo de memoria para guardar datos de forma temporal durante la ejecución. Sin embargo, toda la información se pierde cuando la ejecución termina y no es posible \"recordar\" los valores.\n",
    "\n",
    "Cuando sea necesario almacenar datos de forma permanente en el tiempo, se deben colocar en dispositivos de almacenamiento persistentes como un Disco Duro (HDD), una Unidad de Estado Sólido (SSD), o una memoria USB (pendrive), entre otros. "
   ]
  },
  {
   "cell_type": "markdown",
   "metadata": {
    "slideshow": {
     "slide_type": "slide"
    }
   },
   "source": [
    "# Archivo\n",
    "\n",
    "Un archivo es una secuencia de datos almacenados en un dispositivo persistente. Están identificados por un nombre y la ruta al directorio (carpeta) donde se ubica.\n",
    "\n",
    "Los programas pueden leer datos desde archivos durante su ejecución, guardar datos en archivos para preservar información, e incluso editar el contenido de archivos para actualizar información."
   ]
  },
  {
   "cell_type": "markdown",
   "metadata": {
    "slideshow": {
     "slide_type": "slide"
    }
   },
   "source": [
    "## Archivos de texto plano\n",
    "\n",
    "Los **archivos de texto plano**, contienen únicamente caracteres y carecen de cualquier tipo de formato tipográfico (Arial, Times, Courier, negritas, subrayado, cursivas, tamaño, etc.). \n",
    "\n",
    "Python permite manipular este tipo de archivos a través de operaciones de **lectura** y **escritura**."
   ]
  },
  {
   "cell_type": "markdown",
   "metadata": {
    "slideshow": {
     "slide_type": "slide"
    }
   },
   "source": [
    "# Métodos avanzados de procesamiento de texto\n",
    "\n",
    "Antes de poder trabajar con archivos de texto, se necesitan conocer métodos para manipular texto."
   ]
  },
  {
   "cell_type": "markdown",
   "metadata": {
    "slideshow": {
     "slide_type": "-"
    }
   },
   "source": [
    "## Método `replace`\n",
    "\n",
    "El método `str.replace(a,b)` retorna una copia del string `str` con todas las ocurrencias del substring `a` reemplazadas por `b`."
   ]
  },
  {
   "cell_type": "code",
   "execution_count": 1,
   "metadata": {
    "slideshow": {
     "slide_type": "-"
    }
   },
   "outputs": [
    {
     "data": {
      "text/plain": [
       "'coro'"
      ]
     },
     "execution_count": 1,
     "metadata": {},
     "output_type": "execute_result"
    }
   ],
   "source": [
    "\"cara\".replace(\"a\",\"o\")"
   ]
  },
  {
   "cell_type": "markdown",
   "metadata": {
    "slideshow": {
     "slide_type": "slide"
    }
   },
   "source": [
    "## Método `split`\n",
    "\n",
    "El método `str.split(s)` retorna una lista de los caracteres del string `str`, separados según el substring `s`. Si `s` no es proporcionado, el separador por defecto es cualquier espacio en blanco y caracteres especiales."
   ]
  },
  {
   "cell_type": "code",
   "execution_count": 2,
   "metadata": {
    "slideshow": {
     "slide_type": "-"
    }
   },
   "outputs": [
    {
     "data": {
      "text/plain": [
       "['hola', 'mundo']"
      ]
     },
     "execution_count": 2,
     "metadata": {},
     "output_type": "execute_result"
    }
   ],
   "source": [
    "\" hola mundo\\n \".split()"
   ]
  },
  {
   "cell_type": "code",
   "execution_count": 3,
   "metadata": {
    "slideshow": {
     "slide_type": "-"
    }
   },
   "outputs": [
    {
     "data": {
      "text/plain": [
       "['La', 'ruta', 'natural']"
      ]
     },
     "execution_count": 3,
     "metadata": {},
     "output_type": "execute_result"
    }
   ],
   "source": [
    "\"La ruta natural\".split()"
   ]
  },
  {
   "cell_type": "code",
   "execution_count": 4,
   "metadata": {
    "slideshow": {
     "slide_type": "-"
    }
   },
   "outputs": [
    {
     "data": {
      "text/plain": [
       "['L', ' rut', ' n', 'tur', 'l']"
      ]
     },
     "execution_count": 4,
     "metadata": {},
     "output_type": "execute_result"
    }
   ],
   "source": [
    "\"La ruta natural\".split(\"a\")"
   ]
  },
  {
   "cell_type": "code",
   "execution_count": 5,
   "metadata": {
    "slideshow": {
     "slide_type": "-"
    }
   },
   "outputs": [
    {
     "data": {
      "text/plain": [
       "['1', '2', '3']"
      ]
     },
     "execution_count": 5,
     "metadata": {},
     "output_type": "execute_result"
    }
   ],
   "source": [
    "\"1,2,3\".split(\",\")"
   ]
  },
  {
   "cell_type": "markdown",
   "metadata": {
    "slideshow": {
     "slide_type": "slide"
    }
   },
   "source": [
    "## Método `strip`\n",
    "\n",
    "El método `str.strip(s)` retorna una copia del string `str` con los caracteres iniciales y finales que sean iguales al substring `s` eliminados. Si `s` no es proporcionado, por defecto se eliminan cualquier espacio en blanco y caracteres especiales del inicio y final."
   ]
  },
  {
   "cell_type": "code",
   "execution_count": 6,
   "metadata": {
    "slideshow": {
     "slide_type": "-"
    }
   },
   "outputs": [
    {
     "data": {
      "text/plain": [
       "'hola mundo'"
      ]
     },
     "execution_count": 6,
     "metadata": {},
     "output_type": "execute_result"
    }
   ],
   "source": [
    "\" hola mundo\\n \".strip()"
   ]
  },
  {
   "cell_type": "code",
   "execution_count": 7,
   "metadata": {
    "slideshow": {
     "slide_type": "-"
    }
   },
   "outputs": [
    {
     "data": {
      "text/plain": [
       "'bracadabr'"
      ]
     },
     "execution_count": 7,
     "metadata": {},
     "output_type": "execute_result"
    }
   ],
   "source": [
    "\"abracadabra\".strip(\"a\")"
   ]
  },
  {
   "cell_type": "markdown",
   "metadata": {
    "slideshow": {
     "slide_type": "slide"
    }
   },
   "source": [
    "## Método `join`\n",
    "\n",
    "El método `str.join(iterable)` retorna un string compuesto por la concatenación de todos los strings en el `iterable`, separados por el string `str`. Todos los elementos del `iterable` deben ser strings; de lo contrario, ocurre una excepción."
   ]
  },
  {
   "cell_type": "code",
   "execution_count": 8,
   "metadata": {
    "slideshow": {
     "slide_type": "-"
    }
   },
   "outputs": [
    {
     "data": {
      "text/plain": [
       "'1.2.3.4.5'"
      ]
     },
     "execution_count": 8,
     "metadata": {},
     "output_type": "execute_result"
    }
   ],
   "source": [
    "\".\".join(['1', '2', '3', '4', '5'])"
   ]
  },
  {
   "cell_type": "code",
   "execution_count": 9,
   "metadata": {
    "slideshow": {
     "slide_type": "-"
    }
   },
   "outputs": [
    {
     "data": {
      "text/plain": [
       "'1 2 3 4 5'"
      ]
     },
     "execution_count": 9,
     "metadata": {},
     "output_type": "execute_result"
    }
   ],
   "source": [
    "\" \".join(['1', '2', '3', '4', '5'])"
   ]
  },
  {
   "cell_type": "code",
   "execution_count": 10,
   "metadata": {
    "slideshow": {
     "slide_type": "-"
    }
   },
   "outputs": [
    {
     "data": {
      "text/plain": [
       "'1->2->3->4->5'"
      ]
     },
     "execution_count": 10,
     "metadata": {},
     "output_type": "execute_result"
    }
   ],
   "source": [
    "\"->\".join(['1', '2', '3', '4', '5'])"
   ]
  },
  {
   "cell_type": "code",
   "execution_count": 11,
   "metadata": {
    "slideshow": {
     "slide_type": "-"
    }
   },
   "outputs": [
    {
     "data": {
      "text/plain": [
       "'12345'"
      ]
     },
     "execution_count": 11,
     "metadata": {},
     "output_type": "execute_result"
    }
   ],
   "source": [
    "\"\".join(['1', '2', '3', '4', '5'])"
   ]
  },
  {
   "cell_type": "markdown",
   "metadata": {
    "slideshow": {
     "slide_type": "slide"
    }
   },
   "source": [
    "## Método `format`\n",
    "\n",
    "El método `str.format()` retorna una copia del string `str`, reemplazando cada campo con el valor del argumento correspondiente en formato texto. El string `str` puede contener caracteres literales o campos de reemplazo determinados por paréntesis curvos `{}`. Cada campo de reemplazo puede contener el índice numérico de un argumento posicional o el nombre. Si está vacío, se reemplaza en orden. \n",
    "\n",
    "Este método permite trabajar con una plantilla que puede ser rellenada con\n",
    "información dinámica. "
   ]
  },
  {
   "cell_type": "code",
   "execution_count": 12,
   "metadata": {
    "slideshow": {
     "slide_type": "-"
    }
   },
   "outputs": [],
   "source": [
    "plantilla = \"Soy {}, vivo en {} y tengo {} años.\""
   ]
  },
  {
   "cell_type": "code",
   "execution_count": 13,
   "metadata": {
    "slideshow": {
     "slide_type": "-"
    }
   },
   "outputs": [
    {
     "data": {
      "text/plain": [
       "'Soy Wang, vivo en China y tengo 5.5 años.'"
      ]
     },
     "execution_count": 13,
     "metadata": {},
     "output_type": "execute_result"
    }
   ],
   "source": [
    "plantilla.format('Wang', 'China', 5.5)"
   ]
  },
  {
   "cell_type": "code",
   "execution_count": 14,
   "metadata": {
    "slideshow": {
     "slide_type": "-"
    }
   },
   "outputs": [
    {
     "data": {
      "text/plain": [
       "'Soy Vlad, vivo en Rusia y tengo 600 años.'"
      ]
     },
     "execution_count": 14,
     "metadata": {},
     "output_type": "execute_result"
    }
   ],
   "source": [
    "plantilla.format('Vlad', 'Rusia', 600)"
   ]
  },
  {
   "cell_type": "code",
   "execution_count": 15,
   "metadata": {
    "slideshow": {
     "slide_type": "slide"
    }
   },
   "outputs": [
    {
     "data": {
      "text/plain": [
       "'vaca'"
      ]
     },
     "execution_count": 15,
     "metadata": {},
     "output_type": "execute_result"
    }
   ],
   "source": [
    "\"{1}{0}{2}{0}\".format('a', 'v', 'c')"
   ]
  },
  {
   "cell_type": "markdown",
   "metadata": {
    "slideshow": {
     "slide_type": "-"
    }
   },
   "source": [
    "`{0}`, `{1}`, ... se llaman **campos**, y el método `format` va rellenando los campos en orden."
   ]
  },
  {
   "cell_type": "code",
   "execution_count": 16,
   "metadata": {
    "slideshow": {
     "slide_type": "-"
    }
   },
   "outputs": [],
   "source": [
    "x = \"{nombre} vive en {pais}\""
   ]
  },
  {
   "cell_type": "markdown",
   "metadata": {
    "slideshow": {
     "slide_type": "-"
    }
   },
   "source": [
    "Los campos pueden definirse por nombres o identificadores, en lugar de números."
   ]
  },
  {
   "cell_type": "code",
   "execution_count": 17,
   "metadata": {
    "slideshow": {
     "slide_type": "-"
    }
   },
   "outputs": [
    {
     "data": {
      "text/plain": [
       "'Johannes vive en Alemania'"
      ]
     },
     "execution_count": 17,
     "metadata": {},
     "output_type": "execute_result"
    }
   ],
   "source": [
    "x.format(pais = 'Alemania', nombre = 'Johannes')"
   ]
  },
  {
   "cell_type": "markdown",
   "metadata": {
    "slideshow": {
     "slide_type": "slide"
    }
   },
   "source": [
    "## F-strings\n",
    "\n",
    "Las cadenas de texto formateadas (también llamadas *f-strings* para abreviar), permiten incluir el valor de expresiones dentro de una cadena al anteponer el prefijo `f` o `F`. Estas cadenas pueden contener campos de reemplazo determinados por paréntesis curvos `{}`."
   ]
  },
  {
   "cell_type": "code",
   "execution_count": 18,
   "metadata": {
    "slideshow": {
     "slide_type": "-"
    }
   },
   "outputs": [
    {
     "name": "stdout",
     "output_type": "stream",
     "text": [
      "5 + 10 es 15.\n"
     ]
    }
   ],
   "source": [
    "a = 5\n",
    "b = 10\n",
    "print(f\"{a} + {b} es {a + b}.\")"
   ]
  },
  {
   "cell_type": "markdown",
   "metadata": {
    "slideshow": {
     "slide_type": "slide"
    }
   },
   "source": [
    "# Apertura de archivos\n",
    "\n",
    "La función `open()`, se usa más comúnmente con dos argumentos:  `file` y `mode`.\n",
    "\n",
    "- `file`: es un texto que contiene la ruta al directorio de trabajo actual donde se ubica el archivo que desea abrir. Si el código Python (`.py`) se encuentra en el mismo directorio que el archivo, solo es necesario el nombre. \n",
    "- `mode`: es un carácter opcional que especifica el modo de acceso. El valor predeterminado es `'r'`, lo que significa que está abierto para lectura. Otros valores comunes son `'w'` para sobreescritura (vacía el contenido del archivo si ya existe, o en caso contrario, lo crea), y `'a'` para escritura al final del archivo (si no existe, lo crea).\n",
    "\n",
    "\n",
    "Un tercer argumento opcional, `encoding`, establece la codificación que se utiliza para interpretar caracteres. Por ejemplo, `encoding='UTF-8'` permite reconocer cualquier carácter Unicode y gran cantidad de alfabetos. \n",
    "\n",
    "\n",
    "La función retorna un tipo de dato `file`, que es una representación abstracta del archivo y no el contenido mismo."
   ]
  },
  {
   "cell_type": "markdown",
   "metadata": {
    "slideshow": {
     "slide_type": "slide"
    }
   },
   "source": [
    "# Cierre de archivos\n",
    "\n",
    "El método `f.close()`, propio del tipo de dato `file`, cierra el archivo `f` y libera cualquier recurso del sistema utilizado por él. Un archivo cerrado ya no se puede leer ni escribir hasta volver a abrirlo."
   ]
  },
  {
   "cell_type": "markdown",
   "metadata": {
    "slideshow": {
     "slide_type": "slide"
    }
   },
   "source": [
    "# Lectura de archivos\n",
    "\n",
    "Para leer el contenido de un archivo existente, se puede recorrer por medio de un ciclo `for` el valor que retorna la función `open()` al usar el argumento `mode` en `'r'`. Esto es eficiente en memoria, rápido y lleva a un código simple. La variable del ciclo siempre será una cadena de caracteres e irá cambiando de línea en cada iteración."
   ]
  },
  {
   "cell_type": "code",
   "execution_count": 19,
   "metadata": {
    "slideshow": {
     "slide_type": "-"
    }
   },
   "outputs": [
    {
     "name": "stdout",
     "output_type": "stream",
     "text": [
      "En un lugar\n",
      "\n",
      "de la Mancha\n",
      "\n",
      "de cuyo nombre\n",
      "\n",
      "no quiero acordarme\n",
      "\n",
      "no ha mucho\n"
     ]
    }
   ],
   "source": [
    "f = open('quijote.txt', 'r')\n",
    "for linea in f:\n",
    "    print(linea)\n",
    "f.close()"
   ]
  },
  {
   "cell_type": "code",
   "execution_count": 20,
   "metadata": {
    "slideshow": {
     "slide_type": "slide"
    }
   },
   "outputs": [
    {
     "name": "stdout",
     "output_type": "stream",
     "text": [
      "EN UN LUGAR\n",
      "DE LA MANCHA\n",
      "DE CUYO NOMBRE\n",
      "NO QUIERO ACORDARME\n",
      "NO HA MUCHO\n"
     ]
    }
   ],
   "source": [
    "f = open('quijote.txt', 'r')\n",
    "for linea in f:\n",
    "    print(linea.strip().upper())\n",
    "f.close()"
   ]
  },
  {
   "cell_type": "markdown",
   "metadata": {
    "slideshow": {
     "slide_type": "slide"
    }
   },
   "source": [
    "# Separadores\n",
    "\n",
    "Los archivos CSV (del inglés *comma-separated values*), son archivos de texto plano utilizados para representar datos en forma de tabla, en los que las columnas se separan por comas (o punto y coma) y las filas por saltos de línea.\n",
    "\n",
    "Para manipular archivos CSV, o cualquier otro documento donde sus líneas tengan campos de información separados por algún carácter, se utiliza el método `split` para separar los elementos en una lista."
   ]
  },
  {
   "cell_type": "code",
   "execution_count": 21,
   "metadata": {
    "slideshow": {
     "slide_type": "slide"
    }
   },
   "outputs": [
    {
     "name": "stdout",
     "output_type": "stream",
     "text": [
      "Calcetines\t$ 5000\n",
      "Bicicleta\t$ 100000\n",
      "Pan de pascua\t$ 900\n",
      "Chocolate\t$ 1000\n",
      "Perfume Lancome\t$ 2000\n",
      "------------------------\n",
      "TOTAL:\t\t$ 108900\n"
     ]
    }
   ],
   "source": [
    "suma = 0\n",
    "f = open('productos.csv', 'r')\n",
    "for linea in f:\n",
    "    codigo,producto,precio = linea.strip().split(',')\n",
    "    print(f\"{producto}\\t$ {precio}\")\n",
    "    suma += int(precio)\n",
    "f.close()\n",
    "print(\"-\"*24)\n",
    "print(f\"TOTAL:\\t\\t$ {suma}\")"
   ]
  },
  {
   "cell_type": "markdown",
   "metadata": {
    "slideshow": {
     "slide_type": "slide"
    }
   },
   "source": [
    "# Escritura de archivos\n",
    "\n",
    "Para crear un archivo o sobreescribir información en uno ya existente, se debe abrir con la función `open()` en modo `'w'`."
   ]
  },
  {
   "cell_type": "markdown",
   "metadata": {
    "slideshow": {
     "slide_type": "slide"
    }
   },
   "source": [
    "## Método `write`\n",
    "\n",
    "El método `f.write()` recibe una cadena de texto y escribe los caracteres en el archivo `f`."
   ]
  },
  {
   "cell_type": "code",
   "execution_count": 22,
   "metadata": {
    "slideshow": {
     "slide_type": "slide"
    }
   },
   "outputs": [],
   "source": [
    "f = open('nuevo.txt', 'w')\n",
    "f.write('En un lugar')\n",
    "f.write('de la Mancha\\n')\n",
    "f.write('de cuyo nombre\\nnoquiero acordarme')\n",
    "f.close()"
   ]
  },
  {
   "cell_type": "code",
   "execution_count": 23,
   "metadata": {
    "slideshow": {
     "slide_type": "fragment"
    }
   },
   "outputs": [
    {
     "name": "stdout",
     "output_type": "stream",
     "text": [
      "En un lugarde la Mancha\n",
      "\n",
      "de cuyo nombre\n",
      "\n",
      "noquiero acordarme\n"
     ]
    }
   ],
   "source": [
    "f = open('nuevo.txt', 'r')\n",
    "for linea in f:\n",
    "    print(linea)\n",
    "f.close()"
   ]
  }
 ],
 "metadata": {
  "celltoolbar": "Slideshow",
  "kernelspec": {
   "display_name": "Python 3 (ipykernel)",
   "language": "python",
   "name": "python3"
  },
  "language_info": {
   "codemirror_mode": {
    "name": "ipython",
    "version": 3
   },
   "file_extension": ".py",
   "mimetype": "text/x-python",
   "name": "python",
   "nbconvert_exporter": "python",
   "pygments_lexer": "ipython3",
   "version": "3.11.3"
  }
 },
 "nbformat": 4,
 "nbformat_minor": 4
}
