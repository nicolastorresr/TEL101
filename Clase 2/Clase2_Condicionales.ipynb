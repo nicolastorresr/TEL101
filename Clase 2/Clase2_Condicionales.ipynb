{
 "cells": [
  {
   "cell_type": "markdown",
   "metadata": {
    "colab_type": "text",
    "id": "KnAJIAL4sqXc",
    "slideshow": {
     "slide_type": "slide"
    }
   },
   "source": [
    "### TEL101 - Iniciación a la Programación\n",
    "# Clase 2: Condicionales\n",
    "Prof. Nicolás Torres<br/>\n",
    "<a href=\"mailto:nicolas.torresr@usm.cl\">nicolas.torresr@usm.cl</a><br/>\n",
    "Ingeniería Civil Telemática<br/>\n",
    "Departamento de Electrónica<br/>\n",
    "Universidad Técnica Federico Santa María"
   ]
  },
  {
   "cell_type": "markdown",
   "metadata": {
    "slideshow": {
     "slide_type": "slide"
    }
   },
   "source": [
    "# Condiciones\n",
    "\n",
    "Las condicionales permiten controlar el flujo de los programas, logrando que se ejecute cierta parte del código cuando una condición sea verdadera y un código diferente cuando sea falsa. \n",
    "\n",
    "Son ramificaciones que modifican la ejecución del código y permiten tomar decisiones con base en condiciones definidas previamente. Por ejemplo:\n",
    "\n",
    "* Si está lloviendo, entonces llevo paraguas. Sino, no llevo paraguas.\n",
    "* Si me saco más de un 60 en el control, entonces aprobaré. Si no lo logro, y me saco menos de un 40, reprobaré. En otro caso, me iré al global."
   ]
  },
  {
   "cell_type": "markdown",
   "metadata": {
    "colab_type": "text",
    "id": "0H21SHvhGTEK",
    "slideshow": {
     "slide_type": "slide"
    }
   },
   "source": [
    "# Operadores Relacionales\n",
    "\n",
    "Son operadores que **comparan valores**. \n",
    "\n",
    "El resultado de la operación es **siempre un valor booleano** (```True``` o ```False```)."
   ]
  },
  {
   "cell_type": "markdown",
   "metadata": {
    "colab_type": "text",
    "id": "9Zj2_FEuGTEM",
    "slideshow": {
     "slide_type": "-"
    }
   },
   "source": [
    "- igual a (`==`)\n",
    "- distinto a (`!=`)\n",
    "- mayor que (`>`)\n",
    "- menor que (`<`)\n",
    "- mayor o igual que (`>=`)\n",
    "- menor o igual que (`<=`)"
   ]
  },
  {
   "cell_type": "code",
   "execution_count": 1,
   "metadata": {
    "colab": {
     "base_uri": "https://localhost:8080/",
     "height": 54
    },
    "colab_type": "code",
    "executionInfo": {
     "elapsed": 2655,
     "status": "ok",
     "timestamp": 1547045719505,
     "user": {
      "displayName": "Daniel San Martín",
      "photoUrl": "https://lh4.googleusercontent.com/-xj_b6QASR9g/AAAAAAAAAAI/AAAAAAAAABc/MAAqQCVKo5I/s64/photo.jpg",
      "userId": "16014787961842903941"
     },
     "user_tz": 180
    },
    "id": "MhI1c6QfGTEN",
    "outputId": "c0e1c8ec-52a1-4b05-8c5c-1930cc5f5af5",
    "slideshow": {
     "slide_type": "slide"
    }
   },
   "outputs": [
    {
     "data": {
      "text/plain": [
       "False"
      ]
     },
     "execution_count": 1,
     "metadata": {},
     "output_type": "execute_result"
    }
   ],
   "source": [
    "5 == 3"
   ]
  },
  {
   "cell_type": "code",
   "execution_count": 2,
   "metadata": {
    "slideshow": {
     "slide_type": "-"
    }
   },
   "outputs": [
    {
     "data": {
      "text/plain": [
       "False"
      ]
     },
     "execution_count": 2,
     "metadata": {},
     "output_type": "execute_result"
    }
   ],
   "source": [
    "\"a\" == 'A'"
   ]
  },
  {
   "cell_type": "code",
   "execution_count": 3,
   "metadata": {
    "colab": {
     "base_uri": "https://localhost:8080/",
     "height": 54
    },
    "colab_type": "code",
    "executionInfo": {
     "elapsed": 2644,
     "status": "ok",
     "timestamp": 1547045719505,
     "user": {
      "displayName": "Daniel San Martín",
      "photoUrl": "https://lh4.googleusercontent.com/-xj_b6QASR9g/AAAAAAAAAAI/AAAAAAAAABc/MAAqQCVKo5I/s64/photo.jpg",
      "userId": "16014787961842903941"
     },
     "user_tz": 180
    },
    "id": "ps4OyIzcGTEQ",
    "outputId": "4cd17534-c375-4ba7-b429-f417f95ef775",
    "slideshow": {
     "slide_type": "-"
    }
   },
   "outputs": [
    {
     "data": {
      "text/plain": [
       "False"
      ]
     },
     "execution_count": 3,
     "metadata": {},
     "output_type": "execute_result"
    }
   ],
   "source": [
    "4 > 7"
   ]
  },
  {
   "cell_type": "code",
   "execution_count": 4,
   "metadata": {
    "colab": {
     "base_uri": "https://localhost:8080/",
     "height": 54
    },
    "colab_type": "code",
    "executionInfo": {
     "elapsed": 2636,
     "status": "ok",
     "timestamp": 1547045719506,
     "user": {
      "displayName": "Daniel San Martín",
      "photoUrl": "https://lh4.googleusercontent.com/-xj_b6QASR9g/AAAAAAAAAAI/AAAAAAAAABc/MAAqQCVKo5I/s64/photo.jpg",
      "userId": "16014787961842903941"
     },
     "user_tz": 180
    },
    "id": "6uu6hY-GGTET",
    "outputId": "82d8a33c-a58e-4bb7-f8a2-448a6e6060bd",
    "slideshow": {
     "slide_type": "-"
    }
   },
   "outputs": [
    {
     "data": {
      "text/plain": [
       "True"
      ]
     },
     "execution_count": 4,
     "metadata": {},
     "output_type": "execute_result"
    }
   ],
   "source": [
    "4 != 3"
   ]
  },
  {
   "cell_type": "code",
   "execution_count": 5,
   "metadata": {
    "colab": {
     "base_uri": "https://localhost:8080/",
     "height": 54
    },
    "colab_type": "code",
    "executionInfo": {
     "elapsed": 2623,
     "status": "ok",
     "timestamp": 1547045719508,
     "user": {
      "displayName": "Daniel San Martín",
      "photoUrl": "https://lh4.googleusercontent.com/-xj_b6QASR9g/AAAAAAAAAAI/AAAAAAAAABc/MAAqQCVKo5I/s64/photo.jpg",
      "userId": "16014787961842903941"
     },
     "user_tz": 180
    },
    "id": "5Qr925i3GTEb",
    "outputId": "5c3887c7-da09-47bc-fda2-3e6309dc07ac",
    "slideshow": {
     "slide_type": "-"
    }
   },
   "outputs": [
    {
     "data": {
      "text/plain": [
       "False"
      ]
     },
     "execution_count": 5,
     "metadata": {},
     "output_type": "execute_result"
    }
   ],
   "source": [
    "3 < 3"
   ]
  },
  {
   "cell_type": "markdown",
   "metadata": {
    "slideshow": {
     "slide_type": "slide"
    }
   },
   "source": [
    "## Comparaciones de strings"
   ]
  },
  {
   "cell_type": "markdown",
   "metadata": {
    "slideshow": {
     "slide_type": "-"
    }
   },
   "source": [
    "Los **operadores de comparación** se pueden utilizar sobre strings."
   ]
  },
  {
   "cell_type": "markdown",
   "metadata": {
    "slideshow": {
     "slide_type": "-"
    }
   },
   "source": [
    "¿Cómo se decide el orden de los caracteres?"
   ]
  },
  {
   "cell_type": "markdown",
   "metadata": {
    "slideshow": {
     "slide_type": "slide"
    }
   },
   "source": [
    "### El código ASCII"
   ]
  },
  {
   "cell_type": "markdown",
   "metadata": {
    "slideshow": {
     "slide_type": "-"
    }
   },
   "source": [
    "El código ASCII asocia todos los caracteres imprimibles (letras, números y símbolos) con un número para decidir el orden."
   ]
  },
  {
   "cell_type": "markdown",
   "metadata": {
    "slideshow": {
     "slide_type": "-"
    }
   },
   "source": [
    "<table style=\"font-size: 1em; float:center;\">\n",
    "    <thead>\n",
    "        <td style=\"border-right: 1px solid black;\"></td>\n",
    "        <td style=\"border-right: 3px solid black;\">caracter</td>\n",
    "        <td style=\"border-right: 1px solid black;\"></td>\n",
    "        <td>caracter</td>\n",
    "    </thead>\n",
    "    <tr>\n",
    "        <td style=\"border-right: 1px solid black;\">48</td>\n",
    "        <td style=\"border-right: 3px solid black;\">\"0\"</td>\n",
    "        <td style=\"border-right: 1px solid black;\">65</td>\n",
    "        <td >\"A\"</td>\n",
    "    </tr>\n",
    "    <tr>\n",
    "        <td style=\"border-right: 1px solid black;\">49</td>\n",
    "        <td style=\"border-right: 3px solid black;\">\"1\"</td>\n",
    "        <td style=\"border-right: 1px solid black;\">66</td>\n",
    "        <td >\"B\"</td>\n",
    "    </tr>\n",
    "    <tr>\n",
    "        <td style=\"border-right: 1px solid black;\">...</td>\n",
    "        <td style=\"border-right: 3px solid black;\">...</td>\n",
    "        <td style=\"border-right: 1px solid black;\">...</td>\n",
    "        <td >...</td>\n",
    "    </tr>\n",
    "    <tr>\n",
    "        <td style=\"border-right: 1px solid black;\">61</td>\n",
    "        <td style=\"border-right: 3px solid black;\">\"=\"</td>\n",
    "        <td style=\"border-right: 1px solid black;\">97</td>\n",
    "        <td >\"a\"</td>\n",
    "    </tr>\n",
    "    <tr>\n",
    "        <td style=\"border-right: 1px solid black;\">62</td>\n",
    "        <td style=\"border-right: 3px solid black;\">\">\"</td>\n",
    "        <td style=\"border-right: 1px solid black;\">98</td>\n",
    "        <td >\"b\"</td>\n",
    "    </tr>\n",
    "    <tr>\n",
    "        <td style=\"border-right: 1px solid black;\">...</td>\n",
    "        <td style=\"border-right: 3px solid black;\">...</td>\n",
    "        <td style=\"border-right: 1px solid black;\">...</td>\n",
    "        <td >...</td>\n",
    "    </tr>\n",
    "</table>"
   ]
  },
  {
   "cell_type": "code",
   "execution_count": 6,
   "metadata": {
    "slideshow": {
     "slide_type": "slide"
    }
   },
   "outputs": [
    {
     "data": {
      "text/plain": [
       "True"
      ]
     },
     "execution_count": 6,
     "metadata": {},
     "output_type": "execute_result"
    }
   ],
   "source": [
    "# Las minúsculas son mayores que las mayúsculas. Se ubican después en el codigo ASCII\n",
    "\"a\" > \"A\""
   ]
  },
  {
   "cell_type": "code",
   "execution_count": 7,
   "metadata": {
    "slideshow": {
     "slide_type": "-"
    }
   },
   "outputs": [
    {
     "data": {
      "text/plain": [
       "True"
      ]
     },
     "execution_count": 7,
     "metadata": {},
     "output_type": "execute_result"
    }
   ],
   "source": [
    "\"a\" < \"z\""
   ]
  },
  {
   "cell_type": "code",
   "execution_count": 8,
   "metadata": {
    "slideshow": {
     "slide_type": "-"
    }
   },
   "outputs": [
    {
     "data": {
      "text/plain": [
       "True"
      ]
     },
     "execution_count": 8,
     "metadata": {},
     "output_type": "execute_result"
    }
   ],
   "source": [
    "# La t es menor que la x en el codigo ASCII\n",
    "\"auto\" < \"auxilio\""
   ]
  },
  {
   "cell_type": "code",
   "execution_count": 9,
   "metadata": {
    "slideshow": {
     "slide_type": "-"
    }
   },
   "outputs": [
    {
     "data": {
      "text/plain": [
       "True"
      ]
     },
     "execution_count": 9,
     "metadata": {},
     "output_type": "execute_result"
    }
   ],
   "source": [
    "# La s es mayor que el caracter nulo en el codigo ASCII\n",
    "\"casas\" > \"casa\""
   ]
  },
  {
   "cell_type": "code",
   "execution_count": 10,
   "metadata": {
    "slideshow": {
     "slide_type": "-"
    }
   },
   "outputs": [
    {
     "data": {
      "text/plain": [
       "True"
      ]
     },
     "execution_count": 10,
     "metadata": {},
     "output_type": "execute_result"
    }
   ],
   "source": [
    "# El '1' es menor que el '9' en codigo ASCII\n",
    "'10' < '9'"
   ]
  },
  {
   "cell_type": "markdown",
   "metadata": {
    "colab_type": "text",
    "id": "nVNR6l4mGTEg",
    "slideshow": {
     "slide_type": "slide"
    }
   },
   "source": [
    "## Operadores lógicos\n",
    "Los operadores lógicos relacionan valores booleanos para tomar decisiones y entregan siempre como resultado un valor booleano."
   ]
  },
  {
   "cell_type": "markdown",
   "metadata": {
    "colab_type": "text",
    "id": "1aeIuOqbGTEh",
    "slideshow": {
     "slide_type": "-"
    }
   },
   "source": [
    "- conjunción lógica `and`\n",
    "- disyunción lógica `or`\n",
    "- negación lógica `not`"
   ]
  },
  {
   "cell_type": "code",
   "execution_count": 11,
   "metadata": {
    "colab": {
     "base_uri": "https://localhost:8080/",
     "height": 54
    },
    "colab_type": "code",
    "executionInfo": {
     "elapsed": 2581,
     "status": "ok",
     "timestamp": 1547045719514,
     "user": {
      "displayName": "Daniel San Martín",
      "photoUrl": "https://lh4.googleusercontent.com/-xj_b6QASR9g/AAAAAAAAAAI/AAAAAAAAABc/MAAqQCVKo5I/s64/photo.jpg",
      "userId": "16014787961842903941"
     },
     "user_tz": 180
    },
    "id": "3mOq7kTrGTEr",
    "outputId": "c329b4c3-4713-4835-abbb-69fe51d01289",
    "slideshow": {
     "slide_type": "-"
    }
   },
   "outputs": [
    {
     "data": {
      "text/plain": [
       "True"
      ]
     },
     "execution_count": 11,
     "metadata": {},
     "output_type": "execute_result"
    }
   ],
   "source": [
    "((3 + 4) < 2) or ((2**4) >= 4)"
   ]
  },
  {
   "cell_type": "code",
   "execution_count": 12,
   "metadata": {
    "colab": {
     "base_uri": "https://localhost:8080/",
     "height": 54
    },
    "colab_type": "code",
    "executionInfo": {
     "elapsed": 2574,
     "status": "ok",
     "timestamp": 1547045719514,
     "user": {
      "displayName": "Daniel San Martín",
      "photoUrl": "https://lh4.googleusercontent.com/-xj_b6QASR9g/AAAAAAAAAAI/AAAAAAAAABc/MAAqQCVKo5I/s64/photo.jpg",
      "userId": "16014787961842903941"
     },
     "user_tz": 180
    },
    "id": "WmHs9gtjGTEu",
    "outputId": "26045792-cb9e-4460-fd76-aad301e99b1c",
    "slideshow": {
     "slide_type": "-"
    }
   },
   "outputs": [
    {
     "data": {
      "text/plain": [
       "False"
      ]
     },
     "execution_count": 12,
     "metadata": {},
     "output_type": "execute_result"
    }
   ],
   "source": [
    "((3 + 4) < 2) and ((2**4) >= 4)"
   ]
  },
  {
   "cell_type": "markdown",
   "metadata": {
    "colab_type": "text",
    "id": "DZh9ZgNdJFNO",
    "slideshow": {
     "slide_type": "slide"
    }
   },
   "source": [
    "# Condicional `if`\n",
    "\n",
    "\n",
    "El condicional `if` (\"si\") ejecuta las instrucciones solo si se cumple una condición. Si la condición es falsa, entonces las instrucciones no se realizan. \n",
    "\n",
    "**Sintaxis:**\n",
    "```python\n",
    "if condición:\n",
    "\tinstrucciones\n",
    "```"
   ]
  },
  {
   "cell_type": "code",
   "execution_count": 13,
   "metadata": {
    "slideshow": {
     "slide_type": "slide"
    }
   },
   "outputs": [
    {
     "name": "stdout",
     "output_type": "stream",
     "text": [
      "Ingrese su nota: 60\n",
      "Aprobado\n"
     ]
    }
   ],
   "source": [
    "nota = int(input(\"Ingrese su nota: \"))\n",
    "\n",
    "if nota >= 55:\n",
    "    print(\"Aprobado\")"
   ]
  },
  {
   "cell_type": "markdown",
   "metadata": {
    "slideshow": {
     "slide_type": "slide"
    }
   },
   "source": [
    "# Condicional `else`\n",
    "\n",
    "El condicional `else` (\"si no\"), que funciona como complemento o parte opcional a la sentencia `if`, permite ejecutar instrucciones si la condición anterior no se cumple. Este condicional tiene como prerrequisito una sentencia `if` declarada previamente, no puede aparecer por sí mismo.\n",
    "\n",
    "**Sintaxis:**\n",
    "```python\n",
    "if condición:\n",
    "\tinstrucciones si condición es True\n",
    "else:\n",
    "\tinstrucciones si condición es False\n",
    "```"
   ]
  },
  {
   "cell_type": "code",
   "execution_count": 14,
   "metadata": {
    "slideshow": {
     "slide_type": "slide"
    }
   },
   "outputs": [
    {
     "name": "stdout",
     "output_type": "stream",
     "text": [
      "Ingrese su nota: 20\n",
      "Reprobado\n"
     ]
    }
   ],
   "source": [
    "nota = int(input(\"Ingrese su nota: \"))\n",
    "\n",
    "if nota >= 55:\n",
    "    print(\"Aprobado\")\n",
    "else:\n",
    "    print(\"Reprobado\")"
   ]
  },
  {
   "cell_type": "markdown",
   "metadata": {
    "slideshow": {
     "slide_type": "slide"
    }
   },
   "source": [
    "# Condicional `elif`\n",
    "\n",
    "El condicional `elif`, también funciona como un complemento o parte opcional a la sentencia  `if`, y permite agregar una nueva condición que será evaluada si la anterior no se cumple. Este condicional tiene como prerrequisito una sentencia `if` declarada previamente, no puede aparecer por sí mismo, pero puede aparecer más de una vez dentro del mismo bloque de condiciones.\n",
    "\n",
    "**Sintaxis:**\n",
    "```python\n",
    "if condición 1:\n",
    "\tinstrucciones si condición 1 es True\n",
    "elif condición 2:\n",
    "\tinstrucciones si condición 1 es False y condición 2 es True\n",
    "else:\n",
    "\tinstrucciones si nignuna condición es True\n",
    "```"
   ]
  },
  {
   "cell_type": "code",
   "execution_count": 15,
   "metadata": {
    "colab": {},
    "colab_type": "code",
    "id": "AOO17bW3JFLU",
    "outputId": "41e787f5-a1e8-4c5d-f489-bf793435d5e1",
    "slideshow": {
     "slide_type": "slide"
    }
   },
   "outputs": [
    {
     "name": "stdout",
     "output_type": "stream",
     "text": [
      "Ingrese su nota: 70\n",
      "Aceptable\n"
     ]
    }
   ],
   "source": [
    "nota = int(input(\"Ingrese su nota: \"))\n",
    "\n",
    "if nota >= 80:\n",
    "    print(\"Excelente\")\n",
    "elif nota >= 65: \n",
    "    print(\"Aceptable\")\n",
    "elif nota >= 55: \n",
    "    print(\"Aprobado\")\n",
    "elif nota >= 45: \n",
    "    print(\"Global\")\n",
    "else: \n",
    "    print(\"Reprobado\")"
   ]
  },
  {
   "cell_type": "markdown",
   "metadata": {
    "colab_type": "text",
    "id": "xFlehc_SJFNQ",
    "slideshow": {
     "slide_type": "slide"
    }
   },
   "source": [
    "**Sintaxis General:**\n",
    "```python\n",
    "if <condición1>: #obligatoria\n",
    "    sentencias a ejecutar si <condición1> es verdadera\n",
    "elif <condición2>: #opcional\n",
    "    sentencias a ejecutar si <condición2> es verdadera\n",
    "elif <condición3>: #opcional\n",
    "    sentencias a ejecutar si <condición3> es verdadera\n",
    "...\n",
    "else: #opcional\n",
    "    sentencias cuando ninguna condición anterior es verdadera\n",
    "```\n",
    "\n",
    "La ***Indentación*** después de cada instrucción indica que cosas se realizarán si se cumple su respectiva condición (consecuentemente, si **no** se cumplen las condiciones anteriores). Se utiliza el **caracter de tabulación** (TAB, Tab, ↹)."
   ]
  },
  {
   "cell_type": "markdown",
   "metadata": {
    "slideshow": {
     "slide_type": "slide"
    }
   },
   "source": [
    "#  Condiciones anidadas\n",
    "\n",
    "Cuando una sentencia condicional se ubica dentro de otra, se habla de condiciones \"anidadas\"."
   ]
  },
  {
   "cell_type": "code",
   "execution_count": 16,
   "metadata": {
    "slideshow": {
     "slide_type": "-"
    }
   },
   "outputs": [
    {
     "name": "stdout",
     "output_type": "stream",
     "text": [
      "Ingrese su nota: 70\n",
      "Aprobado.\n"
     ]
    }
   ],
   "source": [
    "nota = int(input(\"Ingrese su nota: \"))\n",
    "\n",
    "if nota >= 55:\n",
    "    if nota >= 80: \n",
    "        print(\"Excelente!!\")\n",
    "    else:\n",
    "        print(\"Aprobado.\")\n",
    "else:\n",
    "    print(\"Reprobado.\")"
   ]
  }
 ],
 "metadata": {
  "celltoolbar": "Slideshow",
  "colab": {
   "collapsed_sections": [],
   "name": "Clase01_Intro_Programación_2019.ipynb",
   "provenance": [],
   "version": "0.3.2"
  },
  "kernelspec": {
   "display_name": "Python 3 (ipykernel)",
   "language": "python",
   "name": "python3"
  },
  "language_info": {
   "codemirror_mode": {
    "name": "ipython",
    "version": 3
   },
   "file_extension": ".py",
   "mimetype": "text/x-python",
   "name": "python",
   "nbconvert_exporter": "python",
   "pygments_lexer": "ipython3",
   "version": "3.11.3"
  }
 },
 "nbformat": 4,
 "nbformat_minor": 1
}
