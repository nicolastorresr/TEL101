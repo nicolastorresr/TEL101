{
 "cells": [
  {
   "cell_type": "markdown",
   "metadata": {
    "colab_type": "text",
    "id": "KnAJIAL4sqXc",
    "slideshow": {
     "slide_type": "slide"
    }
   },
   "source": [
    "### TEL101 - Iniciación a la Programación\n",
    "# Clase 3: Ciclos\n",
    "Prof. Nicolás Torres<br/>\n",
    "<a href=\"mailto:nicolas.torresr@usm.cl\">nicolas.torresr@usm.cl</a><br/>\n",
    "Ingeniería Civil Telemática<br/>\n",
    "Departamento de Electrónica<br/>\n",
    "Universidad Técnica Federico Santa María"
   ]
  },
  {
   "cell_type": "markdown",
   "metadata": {
    "colab_type": "text",
    "id": "8F0jSoc0JFN1",
    "slideshow": {
     "slide_type": "slide"
    }
   },
   "source": [
    "# Ciclo ```while```\n",
    "\n",
    "El ciclo `while` (\"mientras\") ejecuta las instrucciones mientras se cumple una condición. Cuando la condición se convierte en falsa, entonces las instrucciones dejan de realizarse. \n",
    "\n",
    "**Sintaxis:**\n",
    "```python\n",
    "while condición:\n",
    "\tinstrucciones\n",
    "```\n",
    "\n",
    "* La **Indentación** después de la instrucción `while` indica que acciones se realizarán reiterativamente mientras se cumpla la condición.\n",
    "* Cada vuelta o repetición en un ciclo es llamada **Iteración**."
   ]
  },
  {
   "cell_type": "code",
   "execution_count": 1,
   "metadata": {
    "slideshow": {
     "slide_type": "slide"
    }
   },
   "outputs": [
    {
     "name": "stdout",
     "output_type": "stream",
     "text": [
      "1\n",
      "2\n",
      "3\n",
      "4\n",
      "5\n",
      "6\n",
      "7\n",
      "8\n",
      "9\n",
      "Cuando i es igual a 10 la condición es falsa y no se itera más.\n"
     ]
    }
   ],
   "source": [
    "i = 1\n",
    "while i < 10:\n",
    "    print(i)\n",
    "    i += 1\n",
    "print(\"Cuando i es igual a\", i,\"la condición es falsa y no se itera más.\")"
   ]
  },
  {
   "cell_type": "markdown",
   "metadata": {
    "slideshow": {
     "slide_type": "slide"
    }
   },
   "source": [
    "## Condición de término no conocida (uso de \"flag\")\n",
    "\n",
    "Se conoce como \"flag\" a una variable de tipo Booleana que controla el inicio y término de un ciclo. Cuando la condición de término no es conocida, se suelen utilizar este tipo de variables de control porque su estado, que controla el ciclo, puede cambiar fácilmente en el momento deseado y detener las iteraciones."
   ]
  },
  {
   "cell_type": "markdown",
   "metadata": {
    "slideshow": {
     "slide_type": "-"
    }
   },
   "source": [
    "```python\n",
    "flag = True\n",
    "while flag:\n",
    "    if <condición>:\n",
    "        flag = False\n",
    "    else:\n",
    "        sentencias mientras la <condición> sea verdadera\n",
    "```"
   ]
  },
  {
   "cell_type": "code",
   "execution_count": 2,
   "metadata": {
    "slideshow": {
     "slide_type": "slide"
    }
   },
   "outputs": [
    {
     "name": "stdout",
     "output_type": "stream",
     "text": [
      "Ingrese un número par: 13\n",
      "El número ingresado no es par.\n",
      "Ingrese un número par: 7\n",
      "El número ingresado no es par.\n",
      "Ingrese un número par: 16\n",
      "Correcto!\n"
     ]
    }
   ],
   "source": [
    "flag = True\n",
    "while flag:\n",
    "    n = int(input(\"Ingrese un número par: \"))\n",
    "    if n % 2 == 0:        \n",
    "        print(\"Correcto!\")\n",
    "        flag = False\n",
    "    else:\n",
    "        print(\"El número ingresado no es par.\")"
   ]
  },
  {
   "cell_type": "markdown",
   "metadata": {
    "slideshow": {
     "slide_type": "slide"
    }
   },
   "source": [
    "# Ciclos anidados\n",
    "\n",
    "Al igual que las condicionales anidadas, es posible ubicar un ciclo dentro de otro. El \"ciclo interno\" se ejecutará una vez por cada iteración del \"ciclo externo\"."
   ]
  },
  {
   "cell_type": "code",
   "execution_count": 3,
   "metadata": {
    "slideshow": {
     "slide_type": "slide"
    }
   },
   "outputs": [
    {
     "name": "stdout",
     "output_type": "stream",
     "text": [
      "1 1\n",
      "1 2\n",
      "1 3\n",
      "1 4\n",
      "2 1\n",
      "2 2\n",
      "2 3\n",
      "2 4\n",
      "3 1\n",
      "3 2\n",
      "3 3\n",
      "3 4\n",
      "4 1\n",
      "4 2\n",
      "4 3\n",
      "4 4\n"
     ]
    }
   ],
   "source": [
    "x = 1\n",
    "while x <= 4:\n",
    "    y = 1\n",
    "    while y <= 4:        \n",
    "        print(x,y)\n",
    "        y += 1\n",
    "    x += 1"
   ]
  },
  {
   "cell_type": "markdown",
   "metadata": {
    "slideshow": {
     "slide_type": "slide"
    }
   },
   "source": [
    "# Patrones comunes\n",
    "\n",
    "Los \"Patrones\" en diseño de software son una solución general, reutilizable y aplicable para resolver problemas comunes. Es conveniente conocer algoritmos básicos de programación y entender su funcionamiento para poder aplicarlos en distintos contextos."
   ]
  },
  {
   "cell_type": "markdown",
   "metadata": {
    "slideshow": {
     "slide_type": "slide"
    }
   },
   "source": [
    "## Par/Impar\n",
    "En matemáticas, un número \"par\" es un número entero que es divisible por 2. Por lo tanto, un número par tendrá resto cero al ser dividido por dos. El operador módulo permite obtener el resto de la división entre dos números, y se utiliza para determinar si un número es par o impar."
   ]
  },
  {
   "cell_type": "code",
   "execution_count": 4,
   "metadata": {
    "slideshow": {
     "slide_type": "-"
    }
   },
   "outputs": [
    {
     "name": "stdout",
     "output_type": "stream",
     "text": [
      "Ingrese un numero:7\n",
      "Impar\n"
     ]
    }
   ],
   "source": [
    "numero = int(input(\"Ingrese un numero:\"))\n",
    "if numero % 2 == 0:\n",
    "    print(\"Par\")\n",
    "else:\n",
    "    print(\"Impar\")"
   ]
  },
  {
   "cell_type": "markdown",
   "metadata": {
    "slideshow": {
     "slide_type": "slide"
    }
   },
   "source": [
    "## Conteo\n",
    "Un \"contador\" es el nombre que se le da a una variable de tipo entera que se utiliza para llevar un conteo de ciertos eventos dentro del programa. Generalmente, esta variable comienza con valor inicial `0` y su valor se incrementa en uno cuando se cumple alguna condición."
   ]
  },
  {
   "cell_type": "code",
   "execution_count": 5,
   "metadata": {
    "slideshow": {
     "slide_type": "-"
    }
   },
   "outputs": [
    {
     "name": "stdout",
     "output_type": "stream",
     "text": [
      "Ingrese un número entero: 2\n",
      "Ingrese un número entero: 3\n",
      "Ingrese un número entero: 4\n",
      "Ingrese un número entero: 5\n",
      "Ingrese un número entero: 6\n",
      "Se ingresaron 3 números pares\n"
     ]
    }
   ],
   "source": [
    "contador = 0\n",
    "i = 1\n",
    "while i <= 5:\n",
    "    numero = int(input(\"Ingrese un número entero: \"))\n",
    "    if numero % 2 == 0:\n",
    "        contador += 1\n",
    "    i += 1\n",
    "print(\"Se ingresaron\",contador,\"números pares\")"
   ]
  },
  {
   "cell_type": "markdown",
   "metadata": {
    "slideshow": {
     "slide_type": "slide"
    }
   },
   "source": [
    "## Acumulación\n",
    "Un \"acumulador\", funciona de manera similar a un contador, pero generalmente el incremento no es contante."
   ]
  },
  {
   "cell_type": "code",
   "execution_count": 6,
   "metadata": {
    "slideshow": {
     "slide_type": "-"
    }
   },
   "outputs": [
    {
     "name": "stdout",
     "output_type": "stream",
     "text": [
      "Ingrese un número entero: 2\n",
      "Ingrese un número entero: 3\n",
      "Ingrese un número entero: 4\n",
      "Ingrese un número entero: 5\n",
      "Ingrese un número entero: 6\n",
      "La suma de los números pares ingresados es 12\n"
     ]
    }
   ],
   "source": [
    "suma = 0\n",
    "i = 1\n",
    "while i <= 5:\n",
    "    numero = int(input(\"Ingrese un número entero: \"))\n",
    "    if numero % 2 == 0:\n",
    "        suma += numero\n",
    "    i += 1\n",
    "print(\"La suma de los números pares ingresados es\",suma)"
   ]
  },
  {
   "cell_type": "markdown",
   "metadata": {
    "slideshow": {
     "slide_type": "slide"
    }
   },
   "source": [
    "## Mayor\n",
    "\n",
    "El \"patrón del mayor\" permite encontrar el valor más grande entre una serie de números ingresados por el usuario. La idea es usar una variable que vaya \"recordando\" cuál es el mayor valor visto hasta el momento y si aparece un número más grande, actualizar su valor asignándole ese número. La variable debe ser inicializada con un valor que sea menor a todos los números ($-\\infty$)."
   ]
  },
  {
   "cell_type": "code",
   "execution_count": 7,
   "metadata": {
    "scrolled": true,
    "slideshow": {
     "slide_type": "-"
    }
   },
   "outputs": [
    {
     "name": "stdout",
     "output_type": "stream",
     "text": [
      "Ingrese un número:3\n",
      "Ingrese un número:8\n",
      "Ingrese un número:1\n",
      "Ingrese un número:4\n",
      "Ingrese un número:7\n",
      "El mayor número ingresado es 8.0\n"
     ]
    }
   ],
   "source": [
    "mayor = -float(\"inf\")\n",
    "i = 1\n",
    "while i <= 5:\n",
    "    numero = float(input('Ingrese un número:'))\n",
    "    if numero > mayor:\n",
    "        mayor = numero\n",
    "    i += 1\n",
    "print('El mayor número ingresado es',mayor)"
   ]
  },
  {
   "cell_type": "markdown",
   "metadata": {
    "slideshow": {
     "slide_type": "slide"
    }
   },
   "source": [
    "## Menor\n",
    "\n",
    "El patrón para encontrar el menor es análogo al mayor, con la diferencia que se invierte la condición y, la variable que \"recuerda\" comienza con valor infinito positivo. "
   ]
  },
  {
   "cell_type": "code",
   "execution_count": 8,
   "metadata": {
    "slideshow": {
     "slide_type": "-"
    }
   },
   "outputs": [
    {
     "name": "stdout",
     "output_type": "stream",
     "text": [
      "Ingrese un numero:3\n",
      "Ingrese un numero:8\n",
      "Ingrese un numero:1\n",
      "Ingrese un numero:4\n",
      "Ingrese un numero:7\n",
      "El menor número ingresado es 1.0\n"
     ]
    }
   ],
   "source": [
    "menor = float(\"inf\")\n",
    "i = 1\n",
    "while i <= 5:\n",
    "    numero = float(input('Ingrese un numero:'))\n",
    "    if numero < menor:\n",
    "        menor = numero\n",
    "    i += 1\n",
    "print('El menor número ingresado es',menor)"
   ]
  }
 ],
 "metadata": {
  "celltoolbar": "Slideshow",
  "colab": {
   "collapsed_sections": [],
   "name": "Clase01_Intro_Programación_2019.ipynb",
   "provenance": [],
   "version": "0.3.2"
  },
  "kernelspec": {
   "display_name": "Python 3 (ipykernel)",
   "language": "python",
   "name": "python3"
  },
  "language_info": {
   "codemirror_mode": {
    "name": "ipython",
    "version": 3
   },
   "file_extension": ".py",
   "mimetype": "text/x-python",
   "name": "python",
   "nbconvert_exporter": "python",
   "pygments_lexer": "ipython3",
   "version": "3.11.3"
  }
 },
 "nbformat": 4,
 "nbformat_minor": 1
}
