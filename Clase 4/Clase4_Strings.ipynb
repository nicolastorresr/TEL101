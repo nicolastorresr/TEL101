{
 "cells": [
  {
   "cell_type": "markdown",
   "metadata": {
    "slideshow": {
     "slide_type": "slide"
    }
   },
   "source": [
    "### TEL101 - Iniciación a la Programación\n",
    "# Clase 4: Strings\n",
    "Prof. Nicolás Torres<br/>\n",
    "<a href=\"mailto:nicolas.torresr@usm.cl\">nicolas.torresr@usm.cl</a><br/>\n",
    "Ingeniería Civil Telemática<br/>\n",
    "Departamento de Electrónica<br/>\n",
    "Universidad Técnica Federico Santa María"
   ]
  },
  {
   "cell_type": "markdown",
   "metadata": {
    "slideshow": {
     "slide_type": "slide"
    }
   },
   "source": [
    "# Strings\n",
    "Cadenas de texto que se definen entre comillas simples `‘’` o dobles `“ ”`."
   ]
  },
  {
   "cell_type": "code",
   "execution_count": 1,
   "metadata": {
    "slideshow": {
     "slide_type": "-"
    }
   },
   "outputs": [],
   "source": [
    "mensaje = 'Hola Mundo'\n",
    "saludo = \"Hello World\""
   ]
  },
  {
   "cell_type": "markdown",
   "metadata": {
    "slideshow": {
     "slide_type": "slide"
    }
   },
   "source": [
    "# Caracteres especiales\n",
    "\n",
    "Python posee caracteres especiales que interpreta dentro de los strings. El carácter de barra invertida o *backslash* (`\\`), se usa como carácter de escape para producir efectos especiales en los textos como agregar una nueva línea o una tabulación."
   ]
  },
  {
   "cell_type": "code",
   "execution_count": 2,
   "metadata": {
    "slideshow": {
     "slide_type": "-"
    }
   },
   "outputs": [
    {
     "name": "stdout",
     "output_type": "stream",
     "text": [
      "blanco\n",
      "azul\n",
      "rojo\n"
     ]
    }
   ],
   "source": [
    "x = 'blanco\\nazul\\nrojo'\n",
    "print(x)"
   ]
  },
  {
   "cell_type": "code",
   "execution_count": 3,
   "metadata": {
    "slideshow": {
     "slide_type": "-"
    }
   },
   "outputs": [
    {
     "name": "stdout",
     "output_type": "stream",
     "text": [
      "blanco\tazul\trojo\n",
      "verde\tlila\tgris\n"
     ]
    }
   ],
   "source": [
    "print(\"blanco\\tazul\\trojo\\nverde\\tlila\\tgris\")"
   ]
  },
  {
   "cell_type": "markdown",
   "metadata": {
    "slideshow": {
     "slide_type": "slide"
    }
   },
   "source": [
    "# Indexación\n",
    "\n",
    "Una cadena de caracteres tiene elementos ordenados posicionalmente. Por lo tanto, cada carácter dentro del texto puede ser enumerado individualmente.\n",
    "\n",
    "<div align=\"center\">\n",
    "<img src=\"data:image/png;base64,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\" alt=\"\" width=\"100%\" align=\"center\" />\n",
    "</div>"
   ]
  },
  {
   "cell_type": "markdown",
   "metadata": {
    "slideshow": {
     "slide_type": "slide"
    }
   },
   "source": [
    "## Acceso\n",
    "Es posible acceder a cualquier caracter de la secuencia a través de su índice usando el operador corchete `[]`."
   ]
  },
  {
   "cell_type": "code",
   "execution_count": 4,
   "metadata": {
    "slideshow": {
     "slide_type": "-"
    }
   },
   "outputs": [],
   "source": [
    "vocales = \"aeiou\""
   ]
  },
  {
   "cell_type": "code",
   "execution_count": 5,
   "metadata": {
    "slideshow": {
     "slide_type": "-"
    }
   },
   "outputs": [
    {
     "data": {
      "text/plain": [
       "'a'"
      ]
     },
     "execution_count": 5,
     "metadata": {},
     "output_type": "execute_result"
    }
   ],
   "source": [
    "vocales[0]"
   ]
  },
  {
   "cell_type": "code",
   "execution_count": 6,
   "metadata": {
    "slideshow": {
     "slide_type": "-"
    }
   },
   "outputs": [
    {
     "data": {
      "text/plain": [
       "'u'"
      ]
     },
     "execution_count": 6,
     "metadata": {},
     "output_type": "execute_result"
    }
   ],
   "source": [
    "vocales[-1]"
   ]
  },
  {
   "cell_type": "markdown",
   "metadata": {
    "slideshow": {
     "slide_type": "slide"
    }
   },
   "source": [
    "# Inmutabilidad\n",
    "\n",
    "Los strings son secuencias **inmutables** de caracteres, es decir, sus elementos no pueden ser modificados."
   ]
  },
  {
   "cell_type": "code",
   "execution_count": 7,
   "metadata": {
    "slideshow": {
     "slide_type": "-"
    }
   },
   "outputs": [
    {
     "ename": "TypeError",
     "evalue": "'str' object does not support item assignment",
     "output_type": "error",
     "traceback": [
      "\u001b[1;31m---------------------------------------------------------------------------\u001b[0m",
      "\u001b[1;31mTypeError\u001b[0m                                 Traceback (most recent call last)",
      "Input \u001b[1;32mIn [7]\u001b[0m, in \u001b[0;36m<cell line: 1>\u001b[1;34m()\u001b[0m\n\u001b[1;32m----> 1\u001b[0m vocales[\u001b[38;5;241m0\u001b[39m] \u001b[38;5;241m=\u001b[39m \u001b[38;5;124m\"\u001b[39m\u001b[38;5;124mf\u001b[39m\u001b[38;5;124m\"\u001b[39m\n",
      "\u001b[1;31mTypeError\u001b[0m: 'str' object does not support item assignment"
     ]
    }
   ],
   "source": [
    "vocales[0] = \"f\""
   ]
  },
  {
   "cell_type": "markdown",
   "metadata": {
    "slideshow": {
     "slide_type": "slide"
    }
   },
   "source": [
    "## Rebanada (Slicing)\n",
    "\n",
    "`s[i:j]`, entrega los caracteres comenzando en la posición `i` hasta el carácter en la posición `j-1` del string `s`."
   ]
  },
  {
   "cell_type": "code",
   "execution_count": 8,
   "metadata": {
    "slideshow": {
     "slide_type": "-"
    }
   },
   "outputs": [
    {
     "data": {
      "text/plain": [
       "'eio'"
      ]
     },
     "execution_count": 8,
     "metadata": {},
     "output_type": "execute_result"
    }
   ],
   "source": [
    "vocales[1:4]"
   ]
  },
  {
   "cell_type": "markdown",
   "metadata": {
    "slideshow": {
     "slide_type": "slide"
    }
   },
   "source": [
    "`s[i:]` entrega los elementos desde el índice `i` hasta el final."
   ]
  },
  {
   "cell_type": "code",
   "execution_count": 9,
   "metadata": {
    "slideshow": {
     "slide_type": "-"
    }
   },
   "outputs": [
    {
     "data": {
      "text/plain": [
       "'iou'"
      ]
     },
     "execution_count": 9,
     "metadata": {},
     "output_type": "execute_result"
    }
   ],
   "source": [
    "vocales[2:]"
   ]
  },
  {
   "cell_type": "markdown",
   "metadata": {
    "slideshow": {
     "slide_type": "-"
    }
   },
   "source": [
    "`s[:j]` entrega los elementos desde el inicio hasta el índice `j-1`."
   ]
  },
  {
   "cell_type": "code",
   "execution_count": 10,
   "metadata": {
    "slideshow": {
     "slide_type": "-"
    }
   },
   "outputs": [
    {
     "data": {
      "text/plain": [
       "'aei'"
      ]
     },
     "execution_count": 10,
     "metadata": {},
     "output_type": "execute_result"
    }
   ],
   "source": [
    "vocales[:3]"
   ]
  },
  {
   "cell_type": "markdown",
   "metadata": {
    "slideshow": {
     "slide_type": "-"
    }
   },
   "source": [
    "`s[i:j:k]`, entrega los caracteres comenzando en la posición `i` hasta el carácter en la posición `j-1` con salto o incremento de `k`."
   ]
  },
  {
   "cell_type": "code",
   "execution_count": 11,
   "metadata": {
    "slideshow": {
     "slide_type": "-"
    }
   },
   "outputs": [
    {
     "data": {
      "text/plain": [
       "'eo'"
      ]
     },
     "execution_count": 11,
     "metadata": {},
     "output_type": "execute_result"
    }
   ],
   "source": [
    "vocales[1:4:2]"
   ]
  },
  {
   "cell_type": "markdown",
   "metadata": {
    "slideshow": {
     "slide_type": "slide"
    }
   },
   "source": [
    "# Operaciones elementales sobre strings"
   ]
  },
  {
   "cell_type": "markdown",
   "metadata": {
    "slideshow": {
     "slide_type": "-"
    }
   },
   "source": [
    "## Concatenación\n",
    "El operador concatenador (`+`) retorna la unión entre secuencias."
   ]
  },
  {
   "cell_type": "code",
   "execution_count": 12,
   "metadata": {
    "slideshow": {
     "slide_type": "-"
    }
   },
   "outputs": [
    {
     "data": {
      "text/plain": [
       "'abc'"
      ]
     },
     "execution_count": 12,
     "metadata": {},
     "output_type": "execute_result"
    }
   ],
   "source": [
    "'a' + 'b' + 'c'"
   ]
  },
  {
   "cell_type": "code",
   "execution_count": 13,
   "metadata": {
    "slideshow": {
     "slide_type": "-"
    }
   },
   "outputs": [
    {
     "data": {
      "text/plain": [
       "'12'"
      ]
     },
     "execution_count": 13,
     "metadata": {},
     "output_type": "execute_result"
    }
   ],
   "source": [
    "'1' + '2'"
   ]
  },
  {
   "cell_type": "markdown",
   "metadata": {
    "slideshow": {
     "slide_type": "slide"
    }
   },
   "source": [
    "## Repetición\n",
    "El operador repetidor (`*`) retorna los elementos de la secuencia repetidos."
   ]
  },
  {
   "cell_type": "code",
   "execution_count": 14,
   "metadata": {
    "slideshow": {
     "slide_type": "-"
    }
   },
   "outputs": [
    {
     "data": {
      "text/plain": [
       "'na na na na na '"
      ]
     },
     "execution_count": 14,
     "metadata": {},
     "output_type": "execute_result"
    }
   ],
   "source": [
    "'na ' * 5"
   ]
  },
  {
   "cell_type": "markdown",
   "metadata": {
    "slideshow": {
     "slide_type": "slide"
    }
   },
   "source": [
    "## Membresía\n",
    "\n",
    "Los operadores de **membresía** o **pertenencia** (`in` y `not in`) evalúan si un valor es miembro de otro. En otras palabras, permiten saber si un elemento está contenido en una secuencia. En los strings, `x in y` es `True` si y solo si `x` es un substring de `y`."
   ]
  },
  {
   "cell_type": "code",
   "execution_count": 15,
   "metadata": {
    "slideshow": {
     "slide_type": "-"
    }
   },
   "outputs": [
    {
     "data": {
      "text/plain": [
       "True"
      ]
     },
     "execution_count": 15,
     "metadata": {},
     "output_type": "execute_result"
    }
   ],
   "source": [
    "'pollo' in 'repollo'"
   ]
  },
  {
   "cell_type": "code",
   "execution_count": 16,
   "metadata": {
    "slideshow": {
     "slide_type": "-"
    }
   },
   "outputs": [
    {
     "data": {
      "text/plain": [
       "False"
      ]
     },
     "execution_count": 16,
     "metadata": {},
     "output_type": "execute_result"
    }
   ],
   "source": [
    "'pollo' in 'rechicken'"
   ]
  },
  {
   "cell_type": "markdown",
   "metadata": {
    "slideshow": {
     "slide_type": "slide"
    }
   },
   "source": [
    "# Funciones básicas sobre strings"
   ]
  },
  {
   "cell_type": "markdown",
   "metadata": {
    "slideshow": {
     "slide_type": "-"
    }
   },
   "source": [
    "## Longitud de un string\n",
    "\n",
    "La función `len(s)` retorna el número de caracteres en el string `s`."
   ]
  },
  {
   "cell_type": "code",
   "execution_count": 17,
   "metadata": {
    "slideshow": {
     "slide_type": "-"
    }
   },
   "outputs": [
    {
     "data": {
      "text/plain": [
       "10"
      ]
     },
     "execution_count": 17,
     "metadata": {},
     "output_type": "execute_result"
    }
   ],
   "source": [
    "len(\"hola mundo\")"
   ]
  },
  {
   "cell_type": "code",
   "execution_count": 18,
   "metadata": {
    "slideshow": {
     "slide_type": "-"
    }
   },
   "outputs": [
    {
     "data": {
      "text/plain": [
       "0"
      ]
     },
     "execution_count": 18,
     "metadata": {},
     "output_type": "execute_result"
    }
   ],
   "source": [
    "len('')"
   ]
  },
  {
   "cell_type": "code",
   "execution_count": 19,
   "metadata": {
    "slideshow": {
     "slide_type": "-"
    }
   },
   "outputs": [
    {
     "data": {
      "text/plain": [
       "3"
      ]
     },
     "execution_count": 19,
     "metadata": {},
     "output_type": "execute_result"
    }
   ],
   "source": [
    "len('a\\nb')"
   ]
  },
  {
   "cell_type": "markdown",
   "metadata": {
    "slideshow": {
     "slide_type": "slide"
    }
   },
   "source": [
    "## Mínimo y Máximo\n",
    "\n",
    "La función `min(s)` retorna el menor carácter en el string `s`. \n",
    "\n",
    "La función `max(s)` retorna el mayor carácter en el string `s`. \n",
    "\n",
    "El criterio que utiliza para comparar caracteres es el **orden lexicográfico**."
   ]
  },
  {
   "cell_type": "code",
   "execution_count": 20,
   "metadata": {
    "slideshow": {
     "slide_type": "-"
    }
   },
   "outputs": [
    {
     "data": {
      "text/plain": [
       "'a'"
      ]
     },
     "execution_count": 20,
     "metadata": {},
     "output_type": "execute_result"
    }
   ],
   "source": [
    "min('aeiou')"
   ]
  },
  {
   "cell_type": "code",
   "execution_count": 21,
   "metadata": {
    "slideshow": {
     "slide_type": "-"
    }
   },
   "outputs": [
    {
     "data": {
      "text/plain": [
       "'u'"
      ]
     },
     "execution_count": 21,
     "metadata": {},
     "output_type": "execute_result"
    }
   ],
   "source": [
    "max('aeiou')"
   ]
  },
  {
   "cell_type": "markdown",
   "metadata": {
    "slideshow": {
     "slide_type": "slide"
    }
   },
   "source": [
    "# Métodos\n",
    "\n",
    "- Un método es una función que «pertenece a» un tipo de dato. \n",
    "\n",
    "- Un método se llama por su nombre, pero está asociado a un tipo de dato y puede o no retornar un valor. \n",
    "\n",
    "- Para utilizar los métodos en Python la sintaxis es: el dato, seguido de punto y el método que se desea utilizar."
   ]
  },
  {
   "cell_type": "markdown",
   "metadata": {
    "slideshow": {
     "slide_type": "slide"
    }
   },
   "source": [
    "Entonces, **¿Cuál es la diferencia entre métodos y funciones?.**"
   ]
  },
  {
   "cell_type": "markdown",
   "metadata": {
    "slideshow": {
     "slide_type": "-"
    }
   },
   "source": [
    "- La principal diferencia es que un método es parte de las propiedades de un tipo de dato específico.\n",
    "\n",
    "- Cada tipo de dato tiene sus propios métodos. Incluso aunque se llamen igual, pueden tener un comportamiento distinto.\n",
    "\n",
    "- En cambio, las funciones son entidades independientes en un programa. "
   ]
  },
  {
   "cell_type": "markdown",
   "metadata": {
    "slideshow": {
     "slide_type": "slide"
    }
   },
   "source": [
    "# Métodos básicos de los strings\n",
    "\n",
    "Los strings tienen muchos métodos, pero por ahora, nos enfocaremos en los más básicos para entender su funcionamiento."
   ]
  },
  {
   "cell_type": "markdown",
   "metadata": {
    "slideshow": {
     "slide_type": "slide"
    }
   },
   "source": [
    "## Mayúsculas y Minúsculas\n",
    "\n",
    "El método `str.lower()` retorna una copia del string `str` con todos sus caracteres en minúsculas.\n",
    "\n",
    "El método `str.upper()` retorna una copia del string `str` con todos sus caracteres en mayúsculas."
   ]
  },
  {
   "cell_type": "code",
   "execution_count": 22,
   "metadata": {
    "slideshow": {
     "slide_type": "-"
    }
   },
   "outputs": [
    {
     "name": "stdout",
     "output_type": "stream",
     "text": [
      "HOLA MUNDO\n",
      "hola mundo\n"
     ]
    }
   ],
   "source": [
    "x = \"Hola Mundo\"\n",
    "\n",
    "print(x.upper())\n",
    "print(x.lower())"
   ]
  },
  {
   "cell_type": "markdown",
   "metadata": {
    "slideshow": {
     "slide_type": "slide"
    }
   },
   "source": [
    "Ambos métodos retornan una copia del string, no modifican los caracteres del string original."
   ]
  },
  {
   "cell_type": "code",
   "execution_count": 23,
   "metadata": {
    "slideshow": {
     "slide_type": "-"
    }
   },
   "outputs": [],
   "source": [
    "mayusculas = x.upper()\n",
    "minusculas = x.lower()"
   ]
  },
  {
   "cell_type": "code",
   "execution_count": 24,
   "metadata": {
    "slideshow": {
     "slide_type": "-"
    }
   },
   "outputs": [
    {
     "name": "stdout",
     "output_type": "stream",
     "text": [
      "HOLA MUNDO\n",
      "hola mundo\n",
      "Hola Mundo\n"
     ]
    }
   ],
   "source": [
    "print(mayusculas)\n",
    "print(minusculas)\n",
    "print(x)"
   ]
  },
  {
   "cell_type": "markdown",
   "metadata": {
    "slideshow": {
     "slide_type": "slide"
    }
   },
   "source": [
    "## Método `find`\n",
    "\n",
    "El método `str.find(s)` retorna el índice más bajo donde se encuentra el substring `s` en el string `str`. Si no se encuentra, retorna `-1`."
   ]
  },
  {
   "cell_type": "code",
   "execution_count": 25,
   "metadata": {
    "slideshow": {
     "slide_type": "-"
    }
   },
   "outputs": [
    {
     "data": {
      "text/plain": [
       "0"
      ]
     },
     "execution_count": 25,
     "metadata": {},
     "output_type": "execute_result"
    }
   ],
   "source": [
    "\"abracadabra\".find(\"a\")"
   ]
  },
  {
   "cell_type": "code",
   "execution_count": 26,
   "metadata": {
    "slideshow": {
     "slide_type": "-"
    }
   },
   "outputs": [
    {
     "data": {
      "text/plain": [
       "-1"
      ]
     },
     "execution_count": 26,
     "metadata": {},
     "output_type": "execute_result"
    }
   ],
   "source": [
    "\"abracadabra\".find(\"e\")"
   ]
  },
  {
   "cell_type": "markdown",
   "metadata": {
    "slideshow": {
     "slide_type": "slide"
    }
   },
   "source": [
    "## Método `count`\n",
    "\n",
    "El método `str.count(s)` retorna el número de ocurrencias del substring `s` en el string `str`."
   ]
  },
  {
   "cell_type": "code",
   "execution_count": 27,
   "metadata": {
    "slideshow": {
     "slide_type": "-"
    }
   },
   "outputs": [
    {
     "data": {
      "text/plain": [
       "5"
      ]
     },
     "execution_count": 27,
     "metadata": {},
     "output_type": "execute_result"
    }
   ],
   "source": [
    "\"abracadabra\".count(\"a\")"
   ]
  },
  {
   "cell_type": "code",
   "execution_count": 28,
   "metadata": {
    "slideshow": {
     "slide_type": "-"
    }
   },
   "outputs": [
    {
     "data": {
      "text/plain": [
       "0"
      ]
     },
     "execution_count": 28,
     "metadata": {},
     "output_type": "execute_result"
    }
   ],
   "source": [
    "\"abracadabra\".count(\"e\")"
   ]
  },
  {
   "cell_type": "markdown",
   "metadata": {
    "slideshow": {
     "slide_type": "slide"
    }
   },
   "source": [
    "# Iterable\n",
    "\n",
    "Los strings son **iterables**, es decir, se pueden recorrer elemento por elemento, a través de un ciclo."
   ]
  },
  {
   "cell_type": "markdown",
   "metadata": {
    "slideshow": {
     "slide_type": "slide"
    }
   },
   "source": [
    "# Estructura de Repetición `for`\n",
    "\n",
    "- Funciona sobre tipos de datos **iterables**.\n",
    "- Recorre secuencias finitas. Por lo tanto, itera una cantidad **fija** de veces."
   ]
  },
  {
   "cell_type": "markdown",
   "metadata": {
    "slideshow": {
     "slide_type": "slide"
    }
   },
   "source": [
    "### Sintaxis genérica de un ciclo `for`\n",
    "\n",
    "```Python\n",
    "for variable in secuencia:\n",
    "    sentencias para cada elemento de la secuencia\n",
    "```\n",
    "- Cada vez que se utiliza un ciclo `for`, se define automáticamente una `variable` cuyo valor será cada uno de los elementos de la `secuencia`, en orden, uno por uno.\n",
    "- La `secuencia` debe ser un tipo de dato **iterable** (Por ejemplo, un string o una lista).\n",
    "- No confundir el \"`in`\" que se utiliza en el `for` con el operador para verificar membresía."
   ]
  },
  {
   "cell_type": "markdown",
   "metadata": {
    "slideshow": {
     "slide_type": "slide"
    }
   },
   "source": [
    "### Ejemplo"
   ]
  },
  {
   "cell_type": "code",
   "execution_count": 29,
   "metadata": {
    "scrolled": true,
    "slideshow": {
     "slide_type": "-"
    }
   },
   "outputs": [
    {
     "name": "stdout",
     "output_type": "stream",
     "text": [
      "a\n",
      "e\n",
      "i\n",
      "o\n",
      "u\n"
     ]
    }
   ],
   "source": [
    "vocales = \"aeiou\"\n",
    "for letra in vocales:\n",
    "    print(letra)"
   ]
  },
  {
   "cell_type": "markdown",
   "metadata": {
    "slideshow": {
     "slide_type": "-"
    }
   },
   "source": [
    "La variable `letra` de forma automática va iterando sobre cada caracter del texto."
   ]
  },
  {
   "cell_type": "markdown",
   "metadata": {
    "slideshow": {
     "slide_type": "slide"
    }
   },
   "source": [
    "### Equivalencia entre ciclo `while` y ciclo `for`.\n",
    "\n",
    "El ciclo `while` también se puede utilizar para recorrer una secuencia. Sin embargo, no itera sobre los elementos de forma automática como el `for`."
   ]
  },
  {
   "cell_type": "code",
   "execution_count": 30,
   "metadata": {
    "slideshow": {
     "slide_type": "-"
    }
   },
   "outputs": [
    {
     "name": "stdout",
     "output_type": "stream",
     "text": [
      "a\n",
      "e\n",
      "i\n",
      "o\n",
      "u\n"
     ]
    }
   ],
   "source": [
    "vocales = \"aeiou\"\n",
    "i = 0\n",
    "while i < len(vocales):\n",
    "    letra = vocales[i]\n",
    "    print(letra)\n",
    "    i += 1"
   ]
  }
 ],
 "metadata": {
  "anaconda-cloud": {},
  "celltoolbar": "Slideshow",
  "kernelspec": {
   "display_name": "Python 3 (ipykernel)",
   "language": "python",
   "name": "python3"
  },
  "language_info": {
   "codemirror_mode": {
    "name": "ipython",
    "version": 3
   },
   "file_extension": ".py",
   "mimetype": "text/x-python",
   "name": "python",
   "nbconvert_exporter": "python",
   "pygments_lexer": "ipython3",
   "version": "3.11.3"
  }
 },
 "nbformat": 4,
 "nbformat_minor": 1
}
